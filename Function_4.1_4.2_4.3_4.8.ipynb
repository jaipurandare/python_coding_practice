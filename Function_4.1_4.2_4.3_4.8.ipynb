{
 "cells": [
  {
   "cell_type": "code",
   "execution_count": 9,
   "metadata": {},
   "outputs": [
    {
     "name": "stdout",
     "output_type": "stream",
     "text": [
      "Just right\n"
     ]
    }
   ],
   "source": [
    "#Assignment: 4.1\n",
    "guess_me=7\n",
    "\n",
    "if guess_me<7:\n",
    "    print('Too low')\n",
    "elif guess_me>7:\n",
    "    print('Too high')\n",
    "else:\n",
    "    print('Just right')"
   ]
  },
  {
   "cell_type": "code",
   "execution_count": 11,
   "metadata": {},
   "outputs": [
    {
     "name": "stdout",
     "output_type": "stream",
     "text": [
      "Too low\n",
      "Too low\n",
      "Too low\n",
      "Too low\n",
      "Too low\n",
      "Too low\n",
      "Found it!\n"
     ]
    }
   ],
   "source": [
    "#Assignment: 4.2\n",
    "start = 1\n",
    "while start<=guess_me:\n",
    "    if start<guess_me:\n",
    "        print('Too low')\n",
    "    elif start == guess_me:\n",
    "        print('Found it!')\n",
    "    else:\n",
    "        print('Oops!')\n",
    "    start+=1"
   ]
  },
  {
   "cell_type": "code",
   "execution_count": 12,
   "metadata": {},
   "outputs": [
    {
     "name": "stdout",
     "output_type": "stream",
     "text": [
      "3\n",
      "2\n",
      "1\n",
      "0\n"
     ]
    }
   ],
   "source": [
    "#Assignment: 4.3\n",
    "my_list = [3,2,1,0]\n",
    "for num in my_list:\n",
    "    print(num)"
   ]
  },
  {
   "cell_type": "code",
   "execution_count": 14,
   "metadata": {},
   "outputs": [
    {
     "name": "stdout",
     "output_type": "stream",
     "text": [
      "Names in the list: ['Harry', 'Ron', 'Hermione']\n"
     ]
    }
   ],
   "source": [
    "#Assignment: 4.8\n",
    "def good():\n",
    "    name_list=['Harry','Ron','Hermione']\n",
    "    return name_list\n",
    "\n",
    "print('Names in the list: {}'.format(good()))\n",
    "    "
   ]
  },
  {
   "cell_type": "code",
   "execution_count": null,
   "metadata": {},
   "outputs": [],
   "source": []
  }
 ],
 "metadata": {
  "kernelspec": {
   "display_name": "Python 3",
   "language": "python",
   "name": "python3"
  },
  "language_info": {
   "codemirror_mode": {
    "name": "ipython",
    "version": 3
   },
   "file_extension": ".py",
   "mimetype": "text/x-python",
   "name": "python",
   "nbconvert_exporter": "python",
   "pygments_lexer": "ipython3",
   "version": "3.8.3"
  }
 },
 "nbformat": 4,
 "nbformat_minor": 4
}
