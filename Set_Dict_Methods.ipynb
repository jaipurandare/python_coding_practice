{
 "cells": [
  {
   "cell_type": "code",
   "execution_count": 28,
   "metadata": {},
   "outputs": [
    {
     "name": "stdout",
     "output_type": "stream",
     "text": [
      "Length of dictionary: 3\n",
      "Type of dictionary: <class 'dict'>\n",
      "Get funct:5\n",
      "Value by assignment: Nike\n",
      "dict_keys(['Brand', 'Shoesize', 'Colour'])\n",
      "dict_keys(['Brand', 'Shoesize', 'Colour', 'Tshirtsize'])\n",
      "dict_keys(['Brand', 'Shoesize', 'Colour', 'Tshirtsize'])\n",
      "dict_values(['Nike', 5, ['black', 'blue', 'red'], 40])\n",
      "dict_items([('Brand', 'Nike'), ('Shoesize', 5), ('Colour', ['black', 'blue', 'red']), ('Tshirtsize', 40)])\n",
      "7\n"
     ]
    }
   ],
   "source": [
    "#Dictionary methods\n",
    "newdict={\n",
    "    \"Brand\":\"Nike\",\n",
    "    \"Shoesize\":5,\n",
    "    \"Colour\":[\"black\",\"blue\",\"red\"]\n",
    "}\n",
    "print('Length of dictionary: {}'.format(len(newdict)))\n",
    "print('Type of dictionary: {}'.format(type(newdict)))\n",
    "\n",
    "x=newdict.get(\"Shoesize\")\n",
    "print('Get funct:{}'.format(x))\n",
    "y=newdict[\"Brand\"]\n",
    "print('Value by assignment: {}'.format(y))\n",
    "\n",
    "key=newdict.keys()\n",
    "print(key) #Returns the list of keys in that dictionary\n",
    "newdict[\"Tshirtsize\"]=40\n",
    "print(key)\n",
    "\n",
    "print(newdict.keys()) #Returns the keys\n",
    "print(newdict.values()) #Returns the values\n",
    "print(newdict.items()) #Returns the items\n",
    "\n",
    "newdict.update({\"Shoesize\":7}) #Update item\n",
    "print(newdict[\"Shoesize\"])"
   ]
  },
  {
   "cell_type": "code",
   "execution_count": 1,
   "metadata": {},
   "outputs": [
    {
     "name": "stdout",
     "output_type": "stream",
     "text": [
      "There are 2 Mango\n",
      "There are 1 Apple\n",
      "There are 2 Banana\n",
      "There are 1 Kiwi\n",
      "There are 1 Orange\n",
      "There are 2 Guava\n",
      "There are 2 Mango\n",
      "There are 1 Apple\n",
      "There are 2 Banana\n",
      "There are 1 Kiwi\n",
      "There are 1 Orange\n",
      "There are 2 Guava\n",
      "There are 2 each of ['Mango', 'Banana', 'Guava']\n",
      "There are 1 each of ['Apple', 'Kiwi', 'Orange']\n"
     ]
    }
   ],
   "source": [
    "#Dictionaries small assignment\n",
    "fruit_basket=['Mango','Apple','Banana','Kiwi','Mango','Banana','Orange','Guava','Guava']\n",
    "fruit_dict={}\n",
    "\n",
    "for fruit in fruit_basket:\n",
    "    if fruit in fruit_dict:\n",
    "        cnt=fruit_dict[fruit]\n",
    "        fruit_dict.update({fruit:cnt+1})\n",
    "    else:\n",
    "        fruit_dict[fruit]=1\n",
    "\n",
    "for fruit in fruit_dict: #Method 1\n",
    "    print('There are {} {}'.format(fruit_dict[fruit],fruit))\n",
    "    \n",
    "for fruit,count in fruit_dict.items(): #Method 2\n",
    "    print('There are {} {}'.format(count,fruit))\n",
    "\n",
    "fruit_group={}\n",
    "for fruit in fruit_dict:\n",
    "    count=fruit_dict[fruit]\n",
    "    if count in fruit_group:\n",
    "        fruit_group[count].append(fruit)\n",
    "    else:\n",
    "        fruit_group[count]=[fruit]\n",
    "for number in fruit_group:\n",
    "    print('There are {} each of {}'.format(number,fruit_group[number]))"
   ]
  },
  {
   "cell_type": "code",
   "execution_count": 32,
   "metadata": {},
   "outputs": [
    {
     "name": "stdout",
     "output_type": "stream",
     "text": [
      "{1, 2, 3, 'B', 'A'}\n",
      "{1, 2, 3, 'B', 'A'}\n",
      "{1, 2, 3, '@', '#', 'B', 'A'}\n",
      "{1, 2, 3, '@', '#', 'B', 'E', 'T', 'A'}\n"
     ]
    }
   ],
   "source": [
    "#Set methods\n",
    "new_list=[1,2,3,1,2,\"A\",\"B\",\"A\"]\n",
    "new_set=set(new_list)\n",
    "print(new_set)\n",
    "new_set.add(1) #Does not allows to add duplicate item\n",
    "print(new_set)\n",
    "\n",
    "myset=[\"@\",\"#\"]\n",
    "new_set.update(myset) #update current set. It can be updated by list,tuple or set\n",
    "print(new_set)\n",
    "\n",
    "set1={'T','E'}\n",
    "set2=new_set.union(set1) #returns a new set with all items with both sets\n",
    "print(set2)\n"
   ]
  },
  {
   "cell_type": "code",
   "execution_count": null,
   "metadata": {},
   "outputs": [],
   "source": []
  }
 ],
 "metadata": {
  "kernelspec": {
   "display_name": "Python 3",
   "language": "python",
   "name": "python3"
  },
  "language_info": {
   "codemirror_mode": {
    "name": "ipython",
    "version": 3
   },
   "file_extension": ".py",
   "mimetype": "text/x-python",
   "name": "python",
   "nbconvert_exporter": "python",
   "pygments_lexer": "ipython3",
   "version": "3.8.3"
  }
 },
 "nbformat": 4,
 "nbformat_minor": 4
}
