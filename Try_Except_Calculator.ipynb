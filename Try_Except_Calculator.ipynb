{
 "cells": [
  {
   "cell_type": "code",
   "execution_count": 61,
   "metadata": {},
   "outputs": [
    {
     "name": "stdout",
     "output_type": "stream",
     "text": [
      "Enter 1st number: 8\n",
      "Enter 2nd number: 7\n",
      "Enter operator: &\n",
      "Key error!\n"
     ]
    }
   ],
   "source": [
    "def new_calculator(x,y,oper):\n",
    "    operator_dict={ '+':num_add,\n",
    "                    '-':num_subtract,\n",
    "                    '*':num_multiply,\n",
    "                    '/':num_divide,\n",
    "                    '%':num_remainder}\n",
    "    try:\n",
    "        funct=operator_dict[oper]\n",
    "        final=funct(x,y)\n",
    "        print('Answer:'+str(final))\n",
    "    except NameError:\n",
    "        print('Name error!')\n",
    "    except KeyError:\n",
    "        print('Key error!')\n",
    "    except TypeError:\n",
    "        print('Type error!')\n",
    "\n",
    "def num_add(x,y):\n",
    "    return (x+y)\n",
    "def num_subtract(x,y):\n",
    "    return (x-y)\n",
    "def num_multiply(x,y):\n",
    "    return (x*y)\n",
    "def num_divide(x,y):\n",
    "    return (x/y)\n",
    "def num_remainder(x,y):\n",
    "    return (x%y)\n",
    "\n",
    "x=input('Enter 1st number: ')\n",
    "y=input('Enter 2nd number: ')\n",
    "oper=input('Enter operator: ')\n",
    "try:\n",
    "    new_calculator(int(x),int(y),oper)\n",
    "except ValueError:\n",
    "        print('Outside Value error!')"
   ]
  },
  {
   "cell_type": "code",
   "execution_count": null,
   "metadata": {},
   "outputs": [],
   "source": []
  }
 ],
 "metadata": {
  "kernelspec": {
   "display_name": "Python 3",
   "language": "python",
   "name": "python3"
  },
  "language_info": {
   "codemirror_mode": {
    "name": "ipython",
    "version": 3
   },
   "file_extension": ".py",
   "mimetype": "text/x-python",
   "name": "python",
   "nbconvert_exporter": "python",
   "pygments_lexer": "ipython3",
   "version": "3.8.3"
  }
 },
 "nbformat": 4,
 "nbformat_minor": 4
}
