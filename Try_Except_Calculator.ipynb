{
 "cells": [
  {
   "cell_type": "code",
   "execution_count": 4,
   "metadata": {},
   "outputs": [
    {
     "name": "stdout",
     "output_type": "stream",
     "text": [
      "Enter 1st number: 7\n",
      "Enter 2nd number: 0\n",
      "Enter operator: /\n",
      "Zero Division Error!\n",
      "division by zero\n",
      "Key error!\n",
      "'Raising to key error'\n"
     ]
    }
   ],
   "source": [
    "def new_calculator(x,y,oper):\n",
    "    operator_dict={ '+':num_add,\n",
    "                    '-':num_subtract,\n",
    "                    '*':num_multiply,\n",
    "                    '/':num_divide,\n",
    "                    '%':num_remainder,\n",
    "                    '**':num_power}\n",
    "    try:\n",
    "        funct=operator_dict[oper]\n",
    "        final=funct(x,y)\n",
    "        print('Answer:'+str(final))\n",
    "    except NameError as e:\n",
    "        print('Name error!')\n",
    "        print(e)\n",
    "    except KeyError as e:\n",
    "        print('Key error!')\n",
    "        print(e)\n",
    "    except TypeError as e:\n",
    "        print('Type error!')\n",
    "        print(e)\n",
    "    except Exception as e:\n",
    "        print(e)\n",
    "\n",
    "def num_add(x,y):\n",
    "    return (x+y)\n",
    "def num_subtract(x,y):\n",
    "    return (x-y)\n",
    "def num_multiply(x,y):\n",
    "    return (x*y)\n",
    "def num_divide(x,y):\n",
    "    try:\n",
    "        return (x/y)\n",
    "    except ZeroDivisionError as e:\n",
    "        print('Zero Division Error!')\n",
    "        print(e)\n",
    "        raise KeyError('Raising to key error')\n",
    "def num_remainder(x,y):\n",
    "    return (x%y)\n",
    "def num_power(x,y):\n",
    "    return (x**y)\n",
    "\n",
    "x=input('Enter 1st number: ')\n",
    "y=input('Enter 2nd number: ')\n",
    "oper=input('Enter operator: ')\n",
    "try:\n",
    "    new_calculator(int(x),int(y),oper)\n",
    "except ValueError as e:\n",
    "        print('Outside Value error!')\n",
    "        print(e)\n",
    "        print(e.args)"
   ]
  },
  {
   "cell_type": "code",
   "execution_count": null,
   "metadata": {},
   "outputs": [],
   "source": []
  }
 ],
 "metadata": {
  "kernelspec": {
   "display_name": "Python 3",
   "language": "python",
   "name": "python3"
  },
  "language_info": {
   "codemirror_mode": {
    "name": "ipython",
    "version": 3
   },
   "file_extension": ".py",
   "mimetype": "text/x-python",
   "name": "python",
   "nbconvert_exporter": "python",
   "pygments_lexer": "ipython3",
   "version": "3.8.3"
  }
 },
 "nbformat": 4,
 "nbformat_minor": 4
}
