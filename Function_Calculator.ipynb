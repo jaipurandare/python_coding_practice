{
 "cells": [
  {
   "cell_type": "code",
   "execution_count": 13,
   "metadata": {},
   "outputs": [
    {
     "name": "stdout",
     "output_type": "stream",
     "text": [
      "Addition:15\n",
      "Subtration:4\n",
      "Multiplication:6\n",
      "Division:5.0\n"
     ]
    }
   ],
   "source": [
    "#Part2: Function-Calculator by passing arguments+function\n",
    "def calci(x,y,funct):\n",
    "    if funct==add:\n",
    "        add(x,y)\n",
    "    elif funct==subtract:\n",
    "        subtract(x,y)\n",
    "    elif funct==multiply:\n",
    "        multiply(x,y)\n",
    "    elif funct==divide:\n",
    "        divide(x,y)\n",
    "\n",
    "def add(x,y):\n",
    "    print('Addition:'+str(x+y))\n",
    "def subtract(x,y):\n",
    "    print('Subtration:'+str(x-y))\n",
    "def multiply(x,y):\n",
    "    print('Multiplication:'+str(x*y))\n",
    "def divide(x,y):\n",
    "    print('Division:'+str(x/y))\n",
    "\n",
    "calci(10,5,add)\n",
    "calci(5,1,subtract)\n",
    "calci(2,3,multiply)\n",
    "calci(10,2,divide)\n"
   ]
  },
  {
   "cell_type": "code",
   "execution_count": 41,
   "metadata": {},
   "outputs": [
    {
     "name": "stdout",
     "output_type": "stream",
     "text": [
      "Enter 1st number: 4\n",
      "Enter 2nd number: 2\n",
      "Enter operator: -\n",
      "Subtraction: 2\n"
     ]
    }
   ],
   "source": [
    "#Part1: Function-Calculator by passing arguments\n",
    "def calculator(x,y,oper):\n",
    "    if oper=='+':\n",
    "        print('Addition: {}'.format(num_add(x,y)))\n",
    "    elif oper=='-':\n",
    "        print('Subtraction: {}'.format(num_subtract(x,y)))\n",
    "    elif oper=='*':\n",
    "        print('Multiplication: {}'.format(num_multiply(x,y)))\n",
    "    elif oper=='/':\n",
    "        print('Division: {}'.format(num_divide(x,y)))\n",
    "    else:\n",
    "        print('Remainder: {}'.format(num_remainder(x,y)))\n",
    "\n",
    "def num_add(x,y):\n",
    "    return x+y\n",
    "def num_subtract(x,y):\n",
    "    return x-y\n",
    "def num_multiply(x,y):\n",
    "    return x*y\n",
    "def num_divide(x,y):\n",
    "    return x/y\n",
    "def num_remainder(x,y):\n",
    "    return x%y\n",
    "\n",
    "x=input('Enter 1st number: ')\n",
    "y=input('Enter 2nd number: ')\n",
    "oper=input('Enter operator: ')\n",
    "calculator(int(x),int(y),oper)\n"
   ]
  },
  {
   "cell_type": "code",
   "execution_count": null,
   "metadata": {},
   "outputs": [],
   "source": [
    "#Part3: Function-Calculator by using dictionary\n",
    "def new_calculator(x,y,oper):\n",
    "    operator_dict={ '+':num_add,\n",
    "                    '-':num_subtract,\n",
    "                    '*':num_multiply,\n",
    "                    '/':num_divide,\n",
    "                    '%':num_remainder}\n",
    "    funct=operator_dict[oper]\n",
    "    return funct(x,y)\n",
    "\n",
    "def num_add(x,y):\n",
    "    return x+y\n",
    "def num_subtract(x,y):\n",
    "    return x-y\n",
    "def num_multiply(x,y):\n",
    "    return x*y\n",
    "def num_divide(x,y):\n",
    "    return x/y\n",
    "def num_remainder(x,y):\n",
    "    return x%y\n",
    "\n",
    "#x=input('Enter 1st number: ')\n",
    "#y=input('Enter 2nd number: ')\n",
    "#oper=input('Enter operator: ')\n",
    "output=new_calculator(1,2,'+')\n",
    "print(output)"
   ]
  },
  {
   "cell_type": "code",
   "execution_count": null,
   "metadata": {},
   "outputs": [],
   "source": []
  }
 ],
 "metadata": {
  "kernelspec": {
   "display_name": "Python 3",
   "language": "python",
   "name": "python3"
  },
  "language_info": {
   "codemirror_mode": {
    "name": "ipython",
    "version": 3
   },
   "file_extension": ".py",
   "mimetype": "text/x-python",
   "name": "python",
   "nbconvert_exporter": "python",
   "pygments_lexer": "ipython3",
   "version": "3.8.3"
  }
 },
 "nbformat": 4,
 "nbformat_minor": 4
}
