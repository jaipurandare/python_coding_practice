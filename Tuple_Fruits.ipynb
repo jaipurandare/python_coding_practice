{
 "cells": [
  {
   "cell_type": "code",
   "execution_count": 6,
   "metadata": {},
   "outputs": [
    {
     "name": "stdout",
     "output_type": "stream",
     "text": [
      "Original Tuple:\n",
      "('Banana', 'Mango', 'Apple', 'Orange', 'Grapes')\n",
      "\n",
      "Modify with first alphabet: \n",
      "('B for Banana', 'M for Mango', 'A for Apple', 'O for Orange', 'G for Grapes')\n",
      "\n",
      "Display alphabetically on separate line:\n",
      "A for Apple\n",
      "B for Banana\n",
      "G for Grapes\n",
      "M for Mango\n",
      "O for Orange\n",
      "Banana--Mango--Apple--Orange--Grapes\n"
     ]
    }
   ],
   "source": [
    "fruitstuple=(\"Banana\",\"Mango\",\"Apple\",\"Orange\",\"Grapes\")\n",
    "print(\"Original Tuple:\")\n",
    "print(fruitstuple)\n",
    "\n",
    "#Modify each to have 'first alphabet for fruit name'#\n",
    "flist=[]\n",
    "FRUIT_CONV_STR=\"{} for {}\"\n",
    "for fruit in fruitstuple:\n",
    "    flist.append(FRUIT_CONV_STR.format(fruit[0],fruit))\n",
    "fruitstuple=tuple(flist)\n",
    "print(\"\\nModify with first alphabet: \") \n",
    "print(fruitstuple)\n",
    "\n",
    "#Display alphabetically. on separate line\n",
    "flist.sort()\n",
    "fruitstuple=tuple(flist)\n",
    "cnt=0\n",
    "print(\"\\nDisplay alphabetically on separate line:\")\n",
    "for x in fruitstuple:\n",
    "    print(x)\n",
    "\n",
    "#String variable called 'all_fruits' with all fruit names\n",
    "fruitstuple=(\"Banana\",\"Mango\",\"Apple\",\"Orange\",\"Grapes\")\n",
    "all_fruits=\"--\".join(fruitstuple)\n",
    "print(all_fruits)"
   ]
  },
  {
   "cell_type": "code",
   "execution_count": 7,
   "metadata": {},
   "outputs": [
    {
     "name": "stdout",
     "output_type": "stream",
     "text": [
      "B\n",
      "a\n",
      "n\n",
      "a\n",
      "n\n",
      "a\n",
      "M\n",
      "a\n",
      "n\n",
      "g\n",
      "o\n"
     ]
    }
   ],
   "source": [
    "#Nested for\n",
    "fruits_tuple=(\"Banana\",\"Mango\")\n",
    "for fruit in fruits_tuple:\n",
    "    for element in fruit:\n",
    "        print(element)"
   ]
  },
  {
   "cell_type": "code",
   "execution_count": 3,
   "metadata": {},
   "outputs": [
    {
     "name": "stdout",
     "output_type": "stream",
     "text": [
      "Banana--Mango--Apple--Orange--Grapes\n"
     ]
    }
   ],
   "source": []
  },
  {
   "cell_type": "code",
   "execution_count": null,
   "metadata": {},
   "outputs": [],
   "source": []
  }
 ],
 "metadata": {
  "kernelspec": {
   "display_name": "Python 3",
   "language": "python",
   "name": "python3"
  },
  "language_info": {
   "codemirror_mode": {
    "name": "ipython",
    "version": 3
   },
   "file_extension": ".py",
   "mimetype": "text/x-python",
   "name": "python",
   "nbconvert_exporter": "python",
   "pygments_lexer": "ipython3",
   "version": "3.8.3"
  }
 },
 "nbformat": 4,
 "nbformat_minor": 4
}
