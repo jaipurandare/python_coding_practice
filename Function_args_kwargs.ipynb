{
 "cells": [
  {
   "cell_type": "code",
   "execution_count": 51,
   "metadata": {},
   "outputs": [
    {
     "name": "stdout",
     "output_type": "stream",
     "text": [
      "New\n",
      "1\n",
      "3\n",
      "5\n",
      "Function\n",
      "Count:5\n"
     ]
    }
   ],
   "source": [
    "#Assignment part1:\n",
    "def multi_args(*args):\n",
    "    for num_args in args:\n",
    "        print(num_args)\n",
    "    print('Count:{}'.format(len(args)))\n",
    "    \n",
    "multi_args('New',1,3,5,'Function')"
   ]
  },
  {
   "cell_type": "code",
   "execution_count": 60,
   "metadata": {},
   "outputs": [
    {
     "name": "stdout",
     "output_type": "stream",
     "text": [
      "Order list\n",
      "appetizer:\"grilled mushroom\"\n",
      "entree:\"pasta\"\n",
      "dessert:\"tiramitsu\"\n",
      "Order list\n",
      "soup:\"tomato\"\n",
      "appetizer:\"grilled mushroom\"\n",
      "entree:\"pasta\"\n",
      "dessert:\"tiramitsu\"\n"
     ]
    }
   ],
   "source": [
    "#Assignment part2: Dinner order\n",
    "def order_dinner(**kwargs):\n",
    "    print('Order list')\n",
    "#    for order_item in kwargs:  --- Method 1\n",
    "#        print(order_item+\":\\\"\"+kwargs[order_item]+\"\\\"\")\n",
    "    for keys,values in kwargs.items():\n",
    "        print(keys+':\"'+values+'\"')\n",
    "    print(\"\\n\")\n",
    "\n",
    "order1=order_dinner(appetizer=\"grilled mushroom\", entree=\"pasta\", dessert=\"tiramitsu\")\n",
    "order2=order_dinner(soup=\"tomato\", appetizer=\"grilled mushroom\", entree=\"pasta\", dessert=\"tiramitsu\")\n"
   ]
  },
  {
   "cell_type": "code",
   "execution_count": 3,
   "metadata": {},
   "outputs": [
    {
     "name": "stdout",
     "output_type": "stream",
     "text": [
      "1+2+3+4=10\n",
      "10-2-3=5\n",
      "2*4=8\n",
      "10/2/2=2.5\n"
     ]
    }
   ],
   "source": [
    "#Assignment part3: Calculate (Method 1)\n",
    "# ------- Review Comments -----------\n",
    "# Code is repeating. Remove repeatition. First check if it is required in all places. If yes, try to make function of repeating code.\n",
    "# Too much if else. Is it required?\n",
    "# No need to build and maintian output string thought execution. Construct it at the end of execution just before printing output.\n",
    "# Division operator / is not implemented.\n",
    "# ----------- x ----------- x -----------\n",
    "def calculate(oper,*args):\n",
    "    output_string=str(args[0])+oper\n",
    "    total=args[0]\n",
    "    number=args[1:]\n",
    "    counter=0\n",
    "    length=len(number)-1\n",
    "    for num in number:\n",
    "        if counter < length:\n",
    "            output_string=output_string+str(num)+oper\n",
    "        elif counter==length:\n",
    "            output_string=output_string+str(num)+'='\n",
    "        counter+=1\n",
    "        if oper=='+':\n",
    "            total=total+num\n",
    "        elif oper=='-':\n",
    "            total=total-num\n",
    "        elif oper=='*':\n",
    "            total=total*num\n",
    "        elif oper=='/':\n",
    "            total=total/num\n",
    "    print(output_string+str(total))\n",
    "    \n",
    "calculate('+',1,2,3,4)\n",
    "calculate('-',10,2,3)\n",
    "calculate('*',2,4)\n",
    "calculate('/',10,2,2)"
   ]
  },
  {
   "cell_type": "code",
   "execution_count": 66,
   "metadata": {},
   "outputs": [
    {
     "name": "stdout",
     "output_type": "stream",
     "text": [
      "1+2+3\n",
      "1\n",
      "2\n",
      "3\n"
     ]
    }
   ],
   "source": [
    "my_list = [1,2,3]\n",
    "print(*my_list, sep = \"+\")\n",
    "\n",
    "for x in range(len(my_list)): \n",
    "    print (my_list[x])"
   ]
  },
  {
   "cell_type": "code",
   "execution_count": 24,
   "metadata": {},
   "outputs": [
    {
     "name": "stdout",
     "output_type": "stream",
     "text": [
      "Menu:-\n",
      "Soups: Tomato, Lentil, Veg clear\n",
      "Appetizers: Grilled mushroom, Garlic bread, Spring roll\n",
      "Entrees: Fried rice, Pasta, Pizza\n",
      "Desserts: Pudding, Tiramisu, Ice cream\n",
      "\n",
      "\n",
      "Total order report:\n",
      "soup\n",
      "tomato:5\n",
      "\n",
      "\n",
      "appetizer\n",
      "grilled mushroom:3\n",
      "garlic bread:5\n",
      "\n",
      "\n",
      "entree\n",
      "fried rice:5\n",
      "\n",
      "\n",
      "dessert\n",
      "pudding:5\n",
      "tiramisu:2\n",
      "\n",
      "\n"
     ]
    }
   ],
   "source": [
    "#Assignment part4: Order Menu\n",
    "# ----------- Review Comments -----------\n",
    "# Too much too nested If Else. Too much code repeatition.# The order function should accept names of customers who are placing that order. That much has to be added to total.\n",
    "# Total should not be passed as argument to the order function.\n",
    "# Names of dishes can repeat across courses Eg. Tomato can be present in Soups and Appetizers and Entrees\n",
    "# ----------- x ----------- x -----------\n",
    "\n",
    "def order(*args,**kwargs):\n",
    "    num_of_guests=len(args)\n",
    "    for order_item in kwargs:\n",
    "        order_item_type=kwargs[order_item]\n",
    "        total[order_item][order_item_type]=total[order_item][order_item_type]+num_of_guests\n",
    "\n",
    "def print_total():\n",
    "    for dish_type in total:\n",
    "        print(dish_type)\n",
    "        dish_item=total[dish_type]\n",
    "        for dish_name in dish_item:\n",
    "            if int(dish_item[dish_name])==0:\n",
    "                pass\n",
    "            else:\n",
    "                print(str(dish_name)+':'+str(dish_item[dish_name]))\n",
    "        print('\\n')\n",
    "\n",
    "print('Menu:-')\n",
    "print('Soups: Tomato, Lentil, Veg clear')\n",
    "print('Appetizers: Grilled mushroom, Garlic bread, Spring roll')\n",
    "print('Entrees: Fried rice, Pasta, Pizza')\n",
    "print('Desserts: Pudding, Tiramisu, Ice cream')\n",
    "print('\\n')\n",
    "\n",
    "total={'soup': {'tomato':0,\n",
    "                'lentil':0,\n",
    "                'veg clear':0},\n",
    "        'appetizer': {'grilled mushroom':0,\n",
    "                    'garlic bread':0,\n",
    "                    'spring roll':0},\n",
    "        'entree':{'fried rice':0,\n",
    "                'pasta':0,\n",
    "                'pizza':0},\n",
    "        'dessert':{'pudding':0,\n",
    "                   'tiramisu':0,\n",
    "                   'ice cream':0}\n",
    "       }\n",
    "\n",
    "order('Jai','Nups',soup='tomato',dessert='tiramisu')\n",
    "order('Sups','Jai','Nups',soup='tomato',appetizer='grilled mushroom')\n",
    "order('Trups','Nups','Jai','Sups','Uds',entree='fried rice',dessert='pudding',appetizer='garlic bread')\n",
    "print('Total order report:')\n",
    "print_total()"
   ]
  },
  {
   "cell_type": "code",
   "execution_count": 81,
   "metadata": {},
   "outputs": [
    {
     "name": "stdout",
     "output_type": "stream",
     "text": [
      "(+2+,+ +2+,+ +3+)\n"
     ]
    }
   ],
   "source": [
    "#Assignment Part 3: Method 2\n",
    "def num_add(total,number):\n",
    "    for num in number:\n",
    "        total=total+num\n",
    "    return total\n",
    "\n",
    "#def num_sub(*args):\n",
    "#    for num in args:\n",
    "#        total=total-num\n",
    "#def num_multi(*args):\n",
    "#    for num in args:\n",
    "#        total=total*num\n",
    "#def num_div(*args):\n",
    "#    for num in args:\n",
    "#        total=total/num\n",
    "\n",
    "def calculate(oper,*args):\n",
    "    output_str=str(args[0])+oper\n",
    "    #first_num=args[0]\n",
    "    number=args[1:]\n",
    "    if oper=='+':\n",
    "        final_ans=num_add(args[0],number)\n",
    "        print(oper.join(str(args)))\n",
    "        #total=str(args[0])+join_str+'='+str(final_ans)\n",
    "        #print(total)\n",
    "\n",
    "calculate('+',2,2,3)\n",
    "#calculate('-',10,2,3)\n",
    "#calculate('*',2,4)\n",
    "#calculate('/',10,2,2)"
   ]
  },
  {
   "cell_type": "code",
   "execution_count": 72,
   "metadata": {},
   "outputs": [
    {
     "name": "stdout",
     "output_type": "stream",
     "text": [
      "John#Peter#Vicky\n"
     ]
    }
   ],
   "source": [
    "myTuple=(\"John\",\"Peter\",\"Vicky\")\n",
    "x='#'.join(myTuple)\n",
    "print(x)"
   ]
  },
  {
   "cell_type": "code",
   "execution_count": null,
   "metadata": {},
   "outputs": [],
   "source": []
  }
 ],
 "metadata": {
  "kernelspec": {
   "display_name": "Python 3",
   "language": "python",
   "name": "python3"
  },
  "language_info": {
   "codemirror_mode": {
    "name": "ipython",
    "version": 3
   },
   "file_extension": ".py",
   "mimetype": "text/x-python",
   "name": "python",
   "nbconvert_exporter": "python",
   "pygments_lexer": "ipython3",
   "version": "3.8.3"
  }
 },
 "nbformat": 4,
 "nbformat_minor": 4
}
