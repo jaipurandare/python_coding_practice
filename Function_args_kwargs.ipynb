{
 "cells": [
  {
   "cell_type": "code",
   "execution_count": 3,
   "metadata": {},
   "outputs": [
    {
     "name": "stdout",
     "output_type": "stream",
     "text": [
      "New\n",
      "1\n",
      "3\n",
      "5\n",
      "Function\n",
      "Count:5\n"
     ]
    }
   ],
   "source": [
    "#Assignment part1:\n",
    "def multi_args(*args):\n",
    "    count=0\n",
    "    for num_args in args:\n",
    "        print(num_args)\n",
    "        count+=1\n",
    "    print('Count:{}'.format(count))\n",
    "    \n",
    "multi_args('New',1,3,5,'Function')"
   ]
  },
  {
   "cell_type": "code",
   "execution_count": 13,
   "metadata": {},
   "outputs": [
    {
     "name": "stdout",
     "output_type": "stream",
     "text": [
      "Order list\n",
      "appetizer:\"grilled mushroom\"\n",
      "entree:\"pasta\"\n",
      "dessert:\"tiramitsu\"\n",
      "\n",
      "\n",
      "Order list\n",
      "soup:\"tomato\"\n",
      "appetizer:\"grilled mushroom\"\n",
      "entree:\"pasta\"\n",
      "dessert:\"tiramitsu\"\n",
      "\n",
      "\n"
     ]
    }
   ],
   "source": [
    "#Assignment part2: Dinner order\n",
    "def order_dinner(**kwargs):\n",
    "    print('Order list')\n",
    "    for order_item in kwargs:\n",
    "        print(order_item+\":\\\"\"+kwargs[order_item]+\"\\\"\")\n",
    "    print('\\n')\n",
    "\n",
    "order1=order_dinner(appetizer=\"grilled mushroom\", entree=\"pasta\", dessert=\"tiramitsu\")\n",
    "order2=order_dinner(soup=\"tomato\", appetizer=\"grilled mushroom\", entree=\"pasta\", dessert=\"tiramitsu\")\n"
   ]
  },
  {
   "cell_type": "code",
   "execution_count": 49,
   "metadata": {},
   "outputs": [
    {
     "name": "stdout",
     "output_type": "stream",
     "text": [
      "10\n",
      "*\n",
      "2\n",
      "*\n",
      "2\n",
      "*\n",
      "Total:40\n"
     ]
    }
   ],
   "source": [
    "#Assignment part3: Calculate\n",
    "def calculate(*args):\n",
    "    oper=args[0]\n",
    "    if oper=='+':\n",
    "        counter=1\n",
    "        total=0\n",
    "        while counter < len(args):\n",
    "            print(args[counter])\n",
    "            print(oper)\n",
    "            num=args[counter]\n",
    "            total=total+num\n",
    "            counter+=1\n",
    "    elif oper=='-':\n",
    "        counter=2\n",
    "        total=args[1]\n",
    "        print(total)\n",
    "        print('-')\n",
    "        while counter < len(args):\n",
    "            print(args[counter])\n",
    "            print(oper)\n",
    "            num=args[counter]\n",
    "            total=total-num\n",
    "            counter+=1\n",
    "    elif oper=='*':\n",
    "        counter=2\n",
    "        total=args[1]\n",
    "        print(total)\n",
    "        print('*')\n",
    "        while counter < len(args):\n",
    "            print(args[counter])\n",
    "            print(oper)\n",
    "            num=args[counter]\n",
    "            total=total*num\n",
    "            counter+=1\n",
    "    print('Total:{}'.format(total))\n",
    "\n",
    "\n",
    "calculate('*',10,2,2)\n",
    "\n",
    "        "
   ]
  },
  {
   "cell_type": "code",
   "execution_count": null,
   "metadata": {},
   "outputs": [],
   "source": []
  }
 ],
 "metadata": {
  "kernelspec": {
   "display_name": "Python 3",
   "language": "python",
   "name": "python3"
  },
  "language_info": {
   "codemirror_mode": {
    "name": "ipython",
    "version": 3
   },
   "file_extension": ".py",
   "mimetype": "text/x-python",
   "name": "python",
   "nbconvert_exporter": "python",
   "pygments_lexer": "ipython3",
   "version": "3.8.3"
  }
 },
 "nbformat": 4,
 "nbformat_minor": 4
}
