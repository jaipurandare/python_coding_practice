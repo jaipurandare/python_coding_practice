{
 "cells": [
  {
   "cell_type": "code",
   "execution_count": 51,
   "metadata": {},
   "outputs": [
    {
     "name": "stdout",
     "output_type": "stream",
     "text": [
      "New\n",
      "1\n",
      "3\n",
      "5\n",
      "Function\n",
      "Count:5\n"
     ]
    }
   ],
   "source": [
    "#Assignment part1:\n",
    "def multi_args(*args):\n",
    "    for num_args in args:\n",
    "        print(num_args)\n",
    "    print('Count:{}'.format(len(args)))\n",
    "    \n",
    "multi_args('New',1,3,5,'Function')"
   ]
  },
  {
   "cell_type": "code",
   "execution_count": 60,
   "metadata": {},
   "outputs": [
    {
     "name": "stdout",
     "output_type": "stream",
     "text": [
      "Order list\n",
      "appetizer:\"grilled mushroom\"\n",
      "entree:\"pasta\"\n",
      "dessert:\"tiramitsu\"\n",
      "Order list\n",
      "soup:\"tomato\"\n",
      "appetizer:\"grilled mushroom\"\n",
      "entree:\"pasta\"\n",
      "dessert:\"tiramitsu\"\n"
     ]
    }
   ],
   "source": [
    "#Assignment part2: Dinner order\n",
    "def order_dinner(**kwargs):\n",
    "    print('Order list')\n",
    "#    for order_item in kwargs:  --- Method 1\n",
    "#        print(order_item+\":\\\"\"+kwargs[order_item]+\"\\\"\")\n",
    "    for keys,values in kwargs.items():\n",
    "        print(keys+':\"'+values+'\"')\n",
    "    print(\"\\n\")\n",
    "\n",
    "order1=order_dinner(appetizer=\"grilled mushroom\", entree=\"pasta\", dessert=\"tiramitsu\")\n",
    "order2=order_dinner(soup=\"tomato\", appetizer=\"grilled mushroom\", entree=\"pasta\", dessert=\"tiramitsu\")\n"
   ]
  },
  {
   "cell_type": "code",
   "execution_count": 3,
   "metadata": {},
   "outputs": [
    {
     "name": "stdout",
     "output_type": "stream",
     "text": [
      "1+2+3+4=10\n",
      "10-2-3=5\n",
      "2*4=8\n",
      "10/2/2=2.5\n"
     ]
    }
   ],
   "source": [
    "#Assignment part3: Calculate\n",
    "# ------- Review Comments -----------\n",
    "# Code is repeating. Remove repeatition. First check if it is required in all places. If yes, try to make function of repeating code.\n",
    "# Too much if else. Is it required?\n",
    "# No need to build and maintian output string thought execution. Construct it at the end of execution just before printing output.\n",
    "# Division operator / is not implemented.\n",
    "# ----------- x ----------- x -----------\n",
    "def calculate(oper,*args):\n",
    "    output_string=str(args[0])+oper\n",
    "    total=args[0]\n",
    "    number=args[1:]\n",
    "    total_calculate(oper,output_string,total,number)\n",
    "        \n",
    "def total_calculate(oper,output_string,total,number):\n",
    "    counter=0\n",
    "    length=len(number)-1\n",
    "    for num in number:\n",
    "        if counter < length:\n",
    "            output_string=output_string+str(num)+oper\n",
    "        elif counter==length:\n",
    "            output_string=output_string+str(num)+'='\n",
    "        counter+=1\n",
    "        if oper=='+':\n",
    "            total=total+num\n",
    "        elif oper=='-':\n",
    "            total=total-num\n",
    "        elif oper=='*':\n",
    "            total=total*num\n",
    "        elif oper=='/':\n",
    "            total=total/num\n",
    "    print(output_string+str(total))\n",
    "    \n",
    "calculate('+',1,2,3,4)\n",
    "calculate('-',10,2,3)\n",
    "calculate('*',2,4)\n",
    "calculate('/',10,2,2)"
   ]
  },
  {
   "cell_type": "code",
   "execution_count": 66,
   "metadata": {},
   "outputs": [
    {
     "name": "stdout",
     "output_type": "stream",
     "text": [
      "1+2+3\n",
      "1\n",
      "2\n",
      "3\n"
     ]
    }
   ],
   "source": [
    "my_list = [1,2,3]\n",
    "print(*my_list, sep = \"+\")\n",
    "\n",
    "for x in range(len(my_list)): \n",
    "    print (my_list[x])"
   ]
  },
  {
   "cell_type": "code",
   "execution_count": 1,
   "metadata": {},
   "outputs": [
    {
     "name": "stdout",
     "output_type": "stream",
     "text": [
      "Menu:-\n",
      "Soups: Tomato, Lentil, Veg clear\n",
      "Appetizers: Grilled mushroom, Garlic bread, Spring roll\n",
      "Entrees: Fried rice, Pasta, Pizza\n",
      "Desserts: Pudding, Tiramisu, Ice cream\n",
      "\n",
      "\n",
      "Total order report:\n",
      "{'soup': {'tomato': 5, 'lentil': 0, 'veg clear': 0}, 'appetizer': {'grilled mushroom': 3, 'garlic bread': 5, 'spring roll': 0}, 'entree': {'fried rice': 5, 'pasta': 0, 'pizza': 0}, 'dessert': {'pudding': 5, 'tiramisu': 2, 'ice cream': 0}}\n"
     ]
    }
   ],
   "source": [
    "#Assignment part4: Order Menu\n",
    "# ----------- Review Comments -----------\n",
    "# Too much too nested If Else. Too much code repeatition.# The order function should accept names of customers who are placing that order. That much has to be added to total.\n",
    "# Total should not be passed as argument to the order function.\n",
    "# Names of dishes can repeat across courses Eg. Tomato can be present in Soups and Appetizers and Entrees\n",
    "# ----------- x ----------- x -----------\n",
    "\n",
    "def order(total,*args,**kwargs):\n",
    "    num_of_guests=len(args)\n",
    "    for order_item in kwargs:\n",
    "        order_item_type=kwargs[order_item]\n",
    "        total[order_item][order_item_type]=total[order_item][order_item_type]+num_of_guests\n",
    "    return total\n",
    "    \n",
    "print('Menu:-')\n",
    "print('Soups: Tomato, Lentil, Veg clear')\n",
    "print('Appetizers: Grilled mushroom, Garlic bread, Spring roll')\n",
    "print('Entrees: Fried rice, Pasta, Pizza')\n",
    "print('Desserts: Pudding, Tiramisu, Ice cream')\n",
    "print('\\n')\n",
    "\n",
    "total={'soup': {'tomato':0,\n",
    "                'lentil':0,\n",
    "                'veg clear':0},\n",
    "        'appetizer': {'grilled mushroom':0,\n",
    "                    'garlic bread':0,\n",
    "                    'spring roll':0},\n",
    "        'entree':{'fried rice':0,\n",
    "                'pasta':0,\n",
    "                'pizza':0},\n",
    "        'dessert':{'pudding':0,\n",
    "                   'tiramisu':0,\n",
    "                   'ice cream':0}\n",
    "       }\n",
    "\n",
    "total=order(total,'Jai','Nups',soup='tomato',dessert='tiramisu') #,dessert='pudding',guests=['Jai','Nupura'])\n",
    "total=order(total,'Sups','Jai','Nups',soup='tomato',appetizer='grilled mushroom')\n",
    "total=order(total,'Trups','Nups','Jai','Sups','Uds',entree='fried rice',dessert='pudding',appetizer='garlic bread')\n",
    "print('Total order report:')\n",
    "print(total)      "
   ]
  },
  {
   "cell_type": "code",
   "execution_count": null,
   "metadata": {},
   "outputs": [],
   "source": []
  }
 ],
 "metadata": {
  "kernelspec": {
   "display_name": "Python 3",
   "language": "python",
   "name": "python3"
  },
  "language_info": {
   "codemirror_mode": {
    "name": "ipython",
    "version": 3
   },
   "file_extension": ".py",
   "mimetype": "text/x-python",
   "name": "python",
   "nbconvert_exporter": "python",
   "pygments_lexer": "ipython3",
   "version": "3.8.3"
  }
 },
 "nbformat": 4,
 "nbformat_minor": 4
}
