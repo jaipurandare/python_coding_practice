{
 "cells": [
  {
   "cell_type": "code",
   "execution_count": 51,
   "metadata": {},
   "outputs": [
    {
     "name": "stdout",
     "output_type": "stream",
     "text": [
      "New\n",
      "1\n",
      "3\n",
      "5\n",
      "Function\n",
      "Count:5\n"
     ]
    }
   ],
   "source": [
    "#Assignment part1:\n",
    "def multi_args(*args):\n",
    "    for num_args in args:\n",
    "        print(num_args)\n",
    "    print('Count:{}'.format(len(args)))\n",
    "    \n",
    "multi_args('New',1,3,5,'Function')"
   ]
  },
  {
   "cell_type": "code",
   "execution_count": 60,
   "metadata": {},
   "outputs": [
    {
     "name": "stdout",
     "output_type": "stream",
     "text": [
      "Order list\n",
      "appetizer:\"grilled mushroom\"\n",
      "entree:\"pasta\"\n",
      "dessert:\"tiramitsu\"\n",
      "Order list\n",
      "soup:\"tomato\"\n",
      "appetizer:\"grilled mushroom\"\n",
      "entree:\"pasta\"\n",
      "dessert:\"tiramitsu\"\n"
     ]
    }
   ],
   "source": [
    "#Assignment part2: Dinner order\n",
    "def order_dinner(**kwargs):\n",
    "    print('Order list')\n",
    "#    for order_item in kwargs:  --- Method 1\n",
    "#        print(order_item+\":\\\"\"+kwargs[order_item]+\"\\\"\")\n",
    "    for keys,values in kwargs.items():\n",
    "        print(keys+':\"'+values+'\"')\n",
    "    print(\"\\n\")\n",
    "\n",
    "order1=order_dinner(appetizer=\"grilled mushroom\", entree=\"pasta\", dessert=\"tiramitsu\")\n",
    "order2=order_dinner(soup=\"tomato\", appetizer=\"grilled mushroom\", entree=\"pasta\", dessert=\"tiramitsu\")\n"
   ]
  },
  {
   "cell_type": "code",
   "execution_count": 1,
   "metadata": {},
   "outputs": [
    {
     "name": "stdout",
     "output_type": "stream",
     "text": [
      "1+2+3+4=10\n",
      "10-2-3=5\n",
      "2*4=8\n"
     ]
    }
   ],
   "source": [
    "#Assignment part3: Calculate\n",
    "# ------- Review Comments -----------\n"
    "# Code is repeating. Remove repeatition. First check if it is required in all places. If yes, try to make function of repeating code.\n"
    "# Too much if else. Is it required?\n"
    "# No need to build and maintian output string thought execution. Construct it at the end of execution just before printing output.\n"
    "# Division operator / is not implemented.\n"
    "# ----------- x ----------- x -----------\n"
    "def calculate(oper,*args):\n",
    "    if oper=='+':\n",
    "        output_string=str(args[0])+oper\n",
    "        counter=0\n",
    "        total=args[0]\n",
    "        number=args[1:]\n",
    "        length=len(number)-1\n",
    "        for num in number:\n",
    "            if counter < length:\n",
    "                output_string=output_string+str(num)+oper\n",
    "            elif counter==length:\n",
    "                output_string=output_string+str(num)+'='\n",
    "            counter+=1\n",
    "            total=total+num  \n",
    "    elif oper=='-':\n",
    "        output_string=str(args[0])+oper\n",
    "        counter=0\n",
    "        total=args[0]\n",
    "        number=args[1:]\n",
    "        length=len(number)-1\n",
    "        for num in number:\n",
    "            if counter < length:\n",
    "                output_string=output_string+str(num)+oper\n",
    "            elif counter==length:\n",
    "                output_string=output_string+str(num)+'='\n",
    "            counter+=1\n",
    "            total=total-num\n",
    "    elif oper=='*':\n",
    "        output_string=str(args[0])+oper\n",
    "        counter=0\n",
    "        total=args[0]\n",
    "        number=args[1:]\n",
    "        length=len(number)-1\n",
    "        for num in number:\n",
    "            if counter < length:\n",
    "                output_string=output_string+str(num)+oper\n",
    "            elif counter==length:\n",
    "                output_string=output_string+str(num)+'='\n",
    "            counter+=1\n",
    "            total=total*num\n",
    "    print(output_string+str(total))\n",
    "    \n",
    "calculate('+',1,2,3,4)\n",
    "calculate('-',10,2,3)\n",
    "calculate('*',2,4)\n",
    "        "
   ]
  },
  {
   "cell_type": "code",
   "execution_count": 66,
   "metadata": {},
   "outputs": [
    {
     "name": "stdout",
     "output_type": "stream",
     "text": [
      "1+2+3\n",
      "1\n",
      "2\n",
      "3\n"
     ]
    }
   ],
   "source": [
    "my_list = [1,2,3]\n",
    "print(*my_list, sep = \"+\")\n",
    "\n",
    "for x in range(len(my_list)): \n",
    "    print (my_list[x])"
   ]
  },
  {
   "cell_type": "code",
   "execution_count": 78,
   "metadata": {},
   "outputs": [
    {
     "name": "stdout",
     "output_type": "stream",
     "text": [
      "Menu:-\n",
      "Soups: Tomato, Lentil, Veg clear\n",
      "Appetizers: Grilled mushroom, Garlic bread, Spring roll\n",
      "Entrees: Fried rice, Pasta, Pizza\n",
      "Desserts: Pudding, Tiramisu, Ice cream\n",
      "\n",
      "\n",
      "Total order report:\n",
      "Soups: Tomato:2, Lentil:1, Veg clear:0\n",
      "Appetizers: Grilled mushroom:1, Garlic bread:0, Spring roll:0\n",
      "Entrees: Fried rice:1, Pasta:0, Pizza:0\n",
      "Desserts: Pudding:0, Tiramisu:2, Ice-cream:0\n"
     ]
    }
   ],
   "source": [
    "#Assignment part4: Order Menu\n",
    "# ----------- Review Comments -----------\n"
    "# Too much too nested If Else. Too much code repeatition."
    "# The order function should accept names of customers who are placing that order. That much has to be added to total.\n"
    "# Total should not be passed as argument to the order function.\n"
    "# Names of dishes can repeat across courses Eg. Tomato can be present in Soups and Appetizers and Entrees\n"
    "# ----------- x ----------- x -----------\n"
    "\n",
    "def order(total,**kwargs):\n",
    "    for order_item in kwargs:\n",
    "        if order_item=='soup':\n",
    "            if kwargs[order_item]=='tomato':\n",
    "                total['tomato']=total['tomato']+1\n",
    "            elif kwargs[order_item]=='lentil':\n",
    "                total['lentil']=total['lentil']+1\n",
    "            elif kwargs[order_item]=='veg clear':\n",
    "                total['veg_clear']=total['veg_clear']+1\n",
    "        elif order_item=='appetizer':\n",
    "            if kwargs[order_item]=='grilled mushroom':\n",
    "                total['grilled mushroom']=total['grilled mushroom']+1\n",
    "            elif kwargs[order_item]=='garlic bread':\n",
    "                total['garlic bread']=total['garlic bread']+1\n",
    "            elif kwargs[order_item]=='spring roll':\n",
    "                total['spring roll']=total['spring roll']+1\n",
    "        elif order_item=='entree':\n",
    "            if kwargs[order_item]=='fried rice':\n",
    "                total['fried rice']=total['fried rice']+1\n",
    "            elif kwargs[order_item]=='pasta':\n",
    "                total['pasta']=total['pasta']+1\n",
    "            elif kwargs[order_item]=='pizza':\n",
    "                total['pizza']=total['pizza']+1\n",
    "        elif order_item=='dessert':\n",
    "            if kwargs[order_item]=='pudding':\n",
    "                total['pudding']=total['pudding']+1\n",
    "            elif kwargs[order_item]=='tiramisu':\n",
    "                total['tiramisu']=total['tiramisu']+1\n",
    "            elif kwargs[order_item]=='ice cream':\n",
    "                total['ice cream']=total['ice cream']+1\n",
    "    #print(total)\n",
    "    return total\n",
    "    \n",
    "print('Menu:-')\n",
    "print('Soups: Tomato, Lentil, Veg clear')\n",
    "print('Appetizers: Grilled mushroom, Garlic bread, Spring roll')\n",
    "print('Entrees: Fried rice, Pasta, Pizza')\n",
    "print('Desserts: Pudding, Tiramisu, Ice cream')\n",
    "print('\\n')\n",
    "\n",
    "total={'tomato':0,\n",
    "        'lentil':0,\n",
    "        'veg clear':0,\n",
    "        'grilled mushroom':0,\n",
    "        'garlic bread':0,\n",
    "        'spring roll':0,\n",
    "        'fried rice':0,\n",
    "        'pasta':0,\n",
    "        'pizza':0,\n",
    "        'pudding':0,\n",
    "        'tiramisu':0,\n",
    "        'ice cream':0}\n",
    "#print('Order1:')\n",
    "total=order(total,soup='tomato',dessert='tiramisu') #,dessert='pudding',guests=['Jai','Nupura'])\n",
    "total=order(total,soup='lentil',appetizer='grilled mushroom')\n",
    "total=order(total,soup='tomato',entree='fried rice',dessert='tiramisu')\n",
    "print('Total order report:')\n",
    "print('Soups: Tomato:{}, Lentil:{}, Veg clear:{}'.format(total['tomato'],total['lentil'],total['veg clear']))\n",
    "print('Appetizers: Grilled mushroom:{}, Garlic bread:{}, Spring roll:{}'.format(total['grilled mushroom'],total['garlic bread'],total['spring roll']))\n",
    "print('Entrees: Fried rice:{}, Pasta:{}, Pizza:{}'.format(total['fried rice'],total['pasta'],total['pizza']))\n",
    "print('Desserts: Pudding:{}, Tiramisu:{}, Ice-cream:{}'.format(total['pudding'],total['tiramisu'],total['ice cream']))\n",
    "      "
   ]
  },
  {
   "cell_type": "code",
   "execution_count": null,
   "metadata": {},
   "outputs": [],
   "source": []
  }
 ],
 "metadata": {
  "kernelspec": {
   "display_name": "Python 3",
   "language": "python",
   "name": "python3"
  },
  "language_info": {
   "codemirror_mode": {
    "name": "ipython",
    "version": 3
   },
   "file_extension": ".py",
   "mimetype": "text/x-python",
   "name": "python",
   "nbconvert_exporter": "python",
   "pygments_lexer": "ipython3",
   "version": "3.8.3"
  }
 },
 "nbformat": 4,
 "nbformat_minor": 4
}
