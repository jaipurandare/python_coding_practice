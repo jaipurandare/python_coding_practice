{
 "cells": [
  {
   "cell_type": "code",
   "execution_count": 51,
   "metadata": {},
   "outputs": [
    {
     "name": "stdout",
     "output_type": "stream",
     "text": [
      "New\n",
      "1\n",
      "3\n",
      "5\n",
      "Function\n",
      "Count:5\n"
     ]
    }
   ],
   "source": [
    "#Assignment part1:\n",
    "def multi_args(*args):\n",
    "    for num_args in args:\n",
    "        print(num_args)\n",
    "    print('Count:{}'.format(len(args)))\n",
    "    \n",
    "multi_args('New',1,3,5,'Function')"
   ]
  },
  {
   "cell_type": "code",
   "execution_count": 60,
   "metadata": {},
   "outputs": [
    {
     "name": "stdout",
     "output_type": "stream",
     "text": [
      "Order list\n",
      "appetizer:\"grilled mushroom\"\n",
      "entree:\"pasta\"\n",
      "dessert:\"tiramitsu\"\n",
      "Order list\n",
      "soup:\"tomato\"\n",
      "appetizer:\"grilled mushroom\"\n",
      "entree:\"pasta\"\n",
      "dessert:\"tiramitsu\"\n"
     ]
    }
   ],
   "source": [
    "#Assignment part2: Dinner order\n",
    "def order_dinner(**kwargs):\n",
    "    print('Order list')\n",
    "#    for order_item in kwargs:  --- Method 1\n",
    "#        print(order_item+\":\\\"\"+kwargs[order_item]+\"\\\"\")\n",
    "    for keys,values in kwargs.items():\n",
    "        print(keys+':\"'+values+'\"')\n",
    "    print(\"\\n\")\n",
    "\n",
    "order1=order_dinner(appetizer=\"grilled mushroom\", entree=\"pasta\", dessert=\"tiramitsu\")\n",
    "order2=order_dinner(soup=\"tomato\", appetizer=\"grilled mushroom\", entree=\"pasta\", dessert=\"tiramitsu\")\n"
   ]
  },
  {
   "cell_type": "code",
   "execution_count": 1,
   "metadata": {},
   "outputs": [
    {
     "name": "stdout",
     "output_type": "stream",
     "text": [
      "1+2+3+4=10\n",
      "10-2-3=5\n",
      "2*4=8\n"
     ]
    }
   ],
   "source": [
    "#Assignment part3: Calculate\n",
    "def calculate(oper,*args):\n",
    "    if oper=='+':\n",
    "        output_string=str(args[0])+oper\n",
    "        counter=0\n",
    "        total=args[0]\n",
    "        number=args[1:]\n",
    "        length=len(number)-1\n",
    "        for num in number:\n",
    "            if counter < length:\n",
    "                output_string=output_string+str(num)+oper\n",
    "            elif counter==length:\n",
    "                output_string=output_string+str(num)+'='\n",
    "            counter+=1\n",
    "            total=total+num  \n",
    "    elif oper=='-':\n",
    "        output_string=str(args[0])+oper\n",
    "        counter=0\n",
    "        total=args[0]\n",
    "        number=args[1:]\n",
    "        length=len(number)-1\n",
    "        for num in number:\n",
    "            if counter < length:\n",
    "                output_string=output_string+str(num)+oper\n",
    "            elif counter==length:\n",
    "                output_string=output_string+str(num)+'='\n",
    "            counter+=1\n",
    "            total=total-num\n",
    "    elif oper=='*':\n",
    "        output_string=str(args[0])+oper\n",
    "        counter=0\n",
    "        total=args[0]\n",
    "        number=args[1:]\n",
    "        length=len(number)-1\n",
    "        for num in number:\n",
    "            if counter < length:\n",
    "                output_string=output_string+str(num)+oper\n",
    "            elif counter==length:\n",
    "                output_string=output_string+str(num)+'='\n",
    "            counter+=1\n",
    "            total=total*num\n",
    "    print(output_string+str(total))\n",
    "    \n",
    "calculate('+',1,2,3,4)\n",
    "calculate('-',10,2,3)\n",
    "calculate('*',2,4)\n",
    "        "
   ]
  },
  {
   "cell_type": "code",
   "execution_count": 66,
   "metadata": {},
   "outputs": [
    {
     "name": "stdout",
     "output_type": "stream",
     "text": [
      "1+2+3\n",
      "1\n",
      "2\n",
      "3\n"
     ]
    }
   ],
   "source": [
    "my_list = [1,2,3]\n",
    "print(*my_list, sep = \"+\")\n",
    "\n",
    "for x in range(len(my_list)): \n",
    "    print (my_list[x])"
   ]
  },
  {
   "cell_type": "code",
   "execution_count": 67,
   "metadata": {},
   "outputs": [
    {
     "name": "stdout",
     "output_type": "stream",
     "text": [
      "Menu:-\n",
      "Soups:['tomato', 'lentil', 'veg clear']\n",
      "Appetizers:['grilled mushroom', 'garlic bread', 'spring roll']\n",
      "Entrees:['fried rice', 'pasta', 'pizza']\n",
      "Desserts:['pudding', 'tiramisu', 'ice cream']\n",
      "\n",
      "\n",
      "{'tomato': 1, 'lentil': 0, 'veg_clear': 0}\n",
      "{'tomato': 1, 'lentil': 1, 'veg_clear': 0}\n",
      "{'tomato': 2, 'lentil': 1, 'veg_clear': 0}\n",
      "Total order report:\n",
      "{'tomato': 2, 'lentil': 1, 'veg_clear': 0}\n"
     ]
    }
   ],
   "source": [
    "#Assignment part4: Order Menu\n",
    "def order(soup_total,**kwargs):\n",
    "    for order_item in kwargs:\n",
    "        if order_item=='soup':\n",
    "            if kwargs[order_item]=='tomato':\n",
    "                soup_total['tomato']=soup_total['tomato']+1\n",
    "            elif kwargs[order_item]=='lentil':\n",
    "                soup_total['lentil']=soup_total['lentil']+1\n",
    "            elif kwargs[order_item]=='veg clear':\n",
    "                soup_total['veg_clear']=soup_total['veg_clear']+1\n",
    "    print(soup_total)\n",
    "    return soup_total\n",
    "    \n",
    "soup=['tomato','lentil','veg clear']\n",
    "appetizer=['grilled mushroom','garlic bread','spring roll']\n",
    "entree=['fried rice','pasta','pizza']\n",
    "dessert=['pudding','tiramisu','ice cream']\n",
    "\n",
    "print('Menu:-')\n",
    "print('Soups:{}'.format(soup))\n",
    "print('Appetizers:{}'.format(appetizer))\n",
    "print('Entrees:{}'.format(entree))\n",
    "print('Desserts:{}'.format(dessert))\n",
    "print('\\n')\n",
    "\n",
    "soup_total={'tomato':0,\n",
    "            'lentil':0,\n",
    "            'veg_clear':0}\n",
    "#print('Order1:')\n",
    "soup_total=order(soup_total,soup='tomato') #,dessert='pudding',guests=['Jai','Nupura'])\n",
    "soup_total=order(soup_total,soup='lentil')\n",
    "soup_total=order(soup_total,soup='tomato')\n",
    "print('Total order report:')\n",
    "print(soup_total)"
   ]
  },
  {
   "cell_type": "code",
   "execution_count": null,
   "metadata": {},
   "outputs": [],
   "source": []
  }
 ],
 "metadata": {
  "kernelspec": {
   "display_name": "Python 3",
   "language": "python",
   "name": "python3"
  },
  "language_info": {
   "codemirror_mode": {
    "name": "ipython",
    "version": 3
   },
   "file_extension": ".py",
   "mimetype": "text/x-python",
   "name": "python",
   "nbconvert_exporter": "python",
   "pygments_lexer": "ipython3",
   "version": "3.8.3"
  }
 },
 "nbformat": 4,
 "nbformat_minor": 4
}
