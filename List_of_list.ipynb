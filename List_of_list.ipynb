{
 "cells": [
  {
   "cell_type": "code",
   "execution_count": 1,
   "metadata": {},
   "outputs": [
    {
     "name": "stdout",
     "output_type": "stream",
     "text": [
      "Enter total number of files: 3\n",
      "Enter Header (6 fields): 1,1\n",
      "Enter Detail (3 fields): 2,2\n",
      "Enter Trailer (3 fields): 3,3\n",
      "[['1', '1'], ['2', '2'], ['3', '3']]\n",
      "\n",
      "\n",
      "Enter Header (6 fields): 4,4\n",
      "Enter Detail (3 fields): 5,5\n",
      "Enter Trailer (3 fields): 6,6\n",
      "[['4', '4'], ['5', '5'], ['6', '6']]\n",
      "\n",
      "\n",
      "Enter Header (6 fields): 7,7\n",
      "Enter Detail (3 fields): 8,8\n",
      "Enter Trailer (3 fields): 9,9\n",
      "[['7', '7'], ['8', '8'], ['9', '9']]\n",
      "\n",
      "\n"
     ]
    }
   ],
   "source": [
    "filecount = input(\"Enter total number of files: \")\n",
    "cnt=0\n",
    "files=[]\n",
    "\n",
    "while str(cnt) < filecount:\n",
    "    inputheader=input(\"Enter Header (6 fields): \")\n",
    "    inputdetail=input(\"Enter Detail (3 fields): \")\n",
    "    inputtrailer=input(\"Enter Trailer (3 fields): \")\n",
    "    header=inputheader.split(',')\n",
    "    detail=inputdetail.split(',')\n",
    "    trailer=inputtrailer.split(',')\n",
    "    filein=[header,detail,trailer]\n",
    "    files.append(filein)\n",
    "    print(files[cnt])\n",
    "    print('\\n')\n",
    "    cnt+=1\n",
    "    "
   ]
  },
  {
   "cell_type": "code",
   "execution_count": 10,
   "metadata": {},
   "outputs": [
    {
     "name": "stdout",
     "output_type": "stream",
     "text": [
      "[['Incorrect To code in header'], ['Incorrect detail record number sequence'], ['Incorrect trailer record name', 'Incorrect detail records number in trailer']]\n",
      "[['Incorrect file sequence number in header'], [], ['Incorrect file sequence number in trailer', 'Incorrect detail records number in trailer']]\n",
      "[['Incorrect header record name'], ['Incorrect detail name'], ['Incorrect file sequence number in trailer', 'Incorrect detail records number in trailer']]\n"
     ]
    }
   ],
   "source": [
    "files=[[['HDR','1','6','ABC','A','EAS'], ['A','Name','123123'], ['TTT','1','1']],\n",
    "       [['HDR','A','6','ABC','D','EAS'], ['5','New','1231'], ['TLR','1','3']],\n",
    "       [['H','2','6','ABC','D','EAS'], ['5','121','1231'], ['TLR','1','3']]]\n",
    "validFrom=['6','D','X']\n",
    "validTo=['D','X']\n",
    "HEADER_RECORD_START='HDR'\n",
    "TRAILER_RECORD_START='TLR'\n",
    "detailcount=1\n",
    "errorslist=[]\n",
    "\n",
    "#Listing errors using FOR loop\n",
    "\n",
    "for file in files:\n",
    "    err=[[],[],[]]\n",
    "    hdr=file[0]\n",
    "    if hdr[0]!= HEADER_RECORD_START:\n",
    "        err[0].append('Incorrect header record name')\n",
    "    if not hdr[1].isnumeric():\n",
    "        err[0].append('Incorrect file sequence number in header')\n",
    "    if hdr[2] not in validFrom:\n",
    "        err[0].append('Incorrect From code in header')\n",
    "    if not hdr[3].isalpha():\n",
    "        err[0].append('Incorrect From value in header')\n",
    "    if hdr[4] not in validTo:\n",
    "        err[0].append('Incorrect To code in header')\n",
    "    if not hdr[5].isalpha():\n",
    "        err[0].append('Incorrect To value in header')\n",
    "        \n",
    "    det=file[1]\n",
    "    if not det[0].isnumeric():\n",
    "        err[1].append('Incorrect detail record number sequence')\n",
    "    if not det[1].isalpha():\n",
    "        err[1].append('Incorrect detail name')\n",
    "    if not det[2].isnumeric():\n",
    "        err[1].append('Incorrect detail mobile number')\n",
    "    \n",
    "    tlr=file[2]\n",
    "    if tlr[0]!=TRAILER_RECORD_START:\n",
    "        err[2].append('Incorrect trailer record name')\n",
    "    if not tlr[1].isnumeric() or tlr[1]!=hdr[1]:\n",
    "        err[2].append('Incorrect file sequence number in trailer')\n",
    "    if tlr[2]!=detailcount or not detailcount.isnumeric():\n",
    "        err[2].append('Incorrect detail records number in trailer')\n",
    "    \n",
    "    errorslist.append(err)\n",
    "\n",
    "for error in errorslist:\n",
    "    print(error)\n"
   ]
  },
  {
   "cell_type": "code",
   "execution_count": 9,
   "metadata": {},
   "outputs": [
    {
     "name": "stdout",
     "output_type": "stream",
     "text": [
      "[['Incorrect To code in header'], ['Incorrect detail record number sequence'], ['Incorrect trailer record name', 'Incorrect detail records number in trailer']]\n",
      "[['Incorrect file sequence number in header'], [], ['Incorrect file sequence number in trailer', 'Incorrect detail records number in trailer']]\n",
      "[['Incorrect header record name'], ['Incorrect detail name'], ['Incorrect file sequence number in trailer', 'Incorrect detail records number in trailer']]\n"
     ]
    }
   ],
   "source": [
    "files=[[['HDR','1','6','ABC','A','EAS'], ['A','Name','123123'], ['TTT','1','1']],\n",
    "       [['HDR','A','6','ABC','D','EAS'], ['5','New','1231'], ['TLR','1','3']],\n",
    "       [['H','2','6','ABC','D','EAS'], ['5','121','1231'], ['TLR','1','3']]]\n",
    "validFrom=['6','D','X']\n",
    "validTo=['D','X']\n",
    "HEADER_RECORD_START='HDR'\n",
    "TRAILER_RECORD_START='TLR'\n",
    "detailcount=1\n",
    "errorslist=[]\n",
    "\n",
    "#Listing errors using WHILE loop\n",
    "file=[]\n",
    "cnt=0\n",
    "while cnt < len(files):\n",
    "    err=[[],[],[]]\n",
    "    file=files[cnt]\n",
    "    \n",
    "    hdr=file[0]\n",
    "    if hdr[0]!= HEADER_RECORD_START:\n",
    "        err[0].append('Incorrect header record name')\n",
    "    if not hdr[1].isnumeric():\n",
    "        err[0].append('Incorrect file sequence number in header')\n",
    "    if hdr[2] not in validFrom:\n",
    "        err[0].append('Incorrect From code in header')\n",
    "    if not hdr[3].isalpha():\n",
    "        err[0].append('Incorrect From value in header')\n",
    "    if hdr[4] not in validTo:\n",
    "        err[0].append('Incorrect To code in header')\n",
    "    if not hdr[5].isalpha():\n",
    "        err[0].append('Incorrect To value in header')\n",
    "        \n",
    "    det=file[1]\n",
    "    if not det[0].isnumeric():\n",
    "        err[1].append('Incorrect detail record number sequence')\n",
    "    if not det[1].isalpha():\n",
    "        err[1].append('Incorrect detail name')\n",
    "    if not det[2].isnumeric():\n",
    "        err[1].append('Incorrect detail mobile number')\n",
    "    \n",
    "    tlr=file[2]\n",
    "    if tlr[0]!=TRAILER_RECORD_START:\n",
    "        err[2].append('Incorrect trailer record name')\n",
    "    if not tlr[1].isnumeric() or tlr[1]!=hdr[1]:\n",
    "        err[2].append('Incorrect file sequence number in trailer')\n",
    "    if tlr[2]!=detailcount or not detailcount.isnumeric():\n",
    "        err[2].append('Incorrect detail records number in trailer')\n",
    "    \n",
    "    errorslist.append(err)\n",
    "    cnt+=1\n",
    "    \n",
    "for error in errorslist:\n",
    "    print(error)"
   ]
  },
  {
   "cell_type": "code",
   "execution_count": null,
   "metadata": {},
   "outputs": [],
   "source": []
  }
 ],
 "metadata": {
  "kernelspec": {
   "display_name": "Python 3",
   "language": "python",
   "name": "python3"
  },
  "language_info": {
   "codemirror_mode": {
    "name": "ipython",
    "version": 3
   },
   "file_extension": ".py",
   "mimetype": "text/x-python",
   "name": "python",
   "nbconvert_exporter": "python",
   "pygments_lexer": "ipython3",
   "version": "3.8.3"
  }
 },
 "nbformat": 4,
 "nbformat_minor": 4
}
