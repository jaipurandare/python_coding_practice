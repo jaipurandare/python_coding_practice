{
 "cells": [
  {
   "cell_type": "code",
   "execution_count": 4,
   "metadata": {},
   "outputs": [
    {
     "name": "stdout",
     "output_type": "stream",
     "text": [
      "Years list:[1984, 1985, 1986, 1987, 1988] \n",
      "Third birthday:1987\n",
      "Oldest year:1988\n"
     ]
    }
   ],
   "source": [
    "#years_list\n",
    "years_list = [1984,1985,1986,1987,1988]\n",
    "print('Years list:{} '.format(years_list))\n",
    "print('Third birthday:{}'.format(years_list[3]))\n",
    "print('Oldest year:{}'.format(years_list[-1]))"
   ]
  },
  {
   "cell_type": "code",
   "execution_count": 12,
   "metadata": {},
   "outputs": [
    {
     "name": "stdout",
     "output_type": "stream",
     "text": [
      "Things list:\n",
      "Name is capitalized: Cindrella\n",
      "Cheezy element is in all uppercase: MOZERELLA\n",
      "Disease removed, new element added:['MOZERELLA', 'Cindrella', 'Noble Prize']\n"
     ]
    }
   ],
   "source": [
    "#'things' list\n",
    "things=['mozerella','cindrella','salmonella']\n",
    "print('Things list:'.format(things))\n",
    "things[1]=things[1].capitalize()\n",
    "print('Name is capitalized: '+things[1])\n",
    "things[0]=things[0].upper()\n",
    "print('Cheezy element is in all uppercase: '+things[0])\n",
    "things.pop()\n",
    "things.append('Noble Prize')\n",
    "print('Disease removed, new element added:{}'.format(things))"
   ]
  },
  {
   "cell_type": "code",
   "execution_count": 19,
   "metadata": {},
   "outputs": [
    {
     "name": "stdout",
     "output_type": "stream",
     "text": [
      "Surprise list:['Grucho', 'Chico', 'Harpo']\n",
      "Last element in lowercase: harpo\n",
      "List reversed:['Harpo', 'Chico', 'Grucho']\n"
     ]
    }
   ],
   "source": [
    "#'surprise' list\n",
    "surprise=['Grucho','Chico','Harpo']\n",
    "print('Surprise list:{}'.format(surprise))\n",
    "surprise[2]=surprise[2].lower()  #lower case the last element\n",
    "print('Last element in lowercase: '+surprise[2])\n",
    "surprise.reverse()  #Reverse the list\n",
    "surprise[0]=surprise[0].capitalize()  #Capitalize the lower case element\n",
    "print('List reversed:{}'.format(surprise))"
   ]
  },
  {
   "cell_type": "code",
   "execution_count": 41,
   "metadata": {},
   "outputs": [
    {
     "name": "stdout",
     "output_type": "stream",
     "text": [
      "English to French dictionary:{'dog': 'chien', 'cat': 'chat', 'walrus': 'morse'}\n",
      "Walrus in French: morse\n",
      "French to English dictionary:{'chien': 'dog', 'chat': 'cat', 'morse': 'walrus'}\n",
      "English equivalent of 'chien':dog\n",
      "English values from e2f keys: dict_keys(['dog', 'cat', 'walrus'])\n"
     ]
    }
   ],
   "source": [
    "#English to French (e2f) dictionary\n",
    "e2f={\n",
    "    \"dog\":\"chien\",\n",
    "    \"cat\":\"chat\",\n",
    "    \"walrus\":\"morse\"\n",
    "}\n",
    "print('English to French dictionary:{}'.format(e2f))\n",
    "print('Walrus in French: '+e2f[\"walrus\"])\n",
    "\n",
    "f2e={}\n",
    "for animal in e2f:\n",
    "    f2e.update({e2f[animal]:animal})\n",
    "    \n",
    "print('French to English dictionary:{}'.format(f2e))\n",
    "print('English equivalent of \\'chien\\':'+f2e['chien'])\n",
    "\n",
    "print('English values from e2f keys: {}'.format(e2f.keys()))"
   ]
  },
  {
   "cell_type": "code",
   "execution_count": 50,
   "metadata": {},
   "outputs": [
    {
     "name": "stdout",
     "output_type": "stream",
     "text": [
      "Life multilevel dictionary:{'animals': {'cats': ['Henri', 'Grumpy', 'Lucy'], 'octopi': {}, 'emus': {}}, 'plants': {}, 'others': {}}\n",
      "Toplevel:dict_keys(['animals', 'plants', 'others'])\n",
      "Keys for life['animals']: dict_keys(['cats', 'octopi', 'emus'])\n",
      "Values for life['animals']['cats']:['Henri', 'Grumpy', 'Lucy']\n"
     ]
    }
   ],
   "source": [
    "#Multilevel dictionary 'life'\n",
    "life={\n",
    "    'animals':{\n",
    "        'cats':['Henri','Grumpy','Lucy'],\n",
    "        'octopi':{},\n",
    "        'emus':{}\n",
    "        },\n",
    "    'plants':{},\n",
    "    'others':{}\n",
    "    }\n",
    "print('Life multilevel dictionary:{}'.format(life))\n",
    "print('Toplevel:{}'.format(life.keys()))\n",
    "print('Keys for life[\\'animals\\']: {}'.format(life['animals'].keys()))\n",
    "print('Values for life[\\'animals\\'][\\'cats\\']:{}'.format(life['animals']['cats']))"
   ]
  },
  {
   "cell_type": "code",
   "execution_count": null,
   "metadata": {},
   "outputs": [],
   "source": []
  }
 ],
 "metadata": {
  "kernelspec": {
   "display_name": "Python 3",
   "language": "python",
   "name": "python3"
  },
  "language_info": {
   "codemirror_mode": {
    "name": "ipython",
    "version": 3
   },
   "file_extension": ".py",
   "mimetype": "text/x-python",
   "name": "python",
   "nbconvert_exporter": "python",
   "pygments_lexer": "ipython3",
   "version": "3.8.3"
  }
 },
 "nbformat": 4,
 "nbformat_minor": 4
}
