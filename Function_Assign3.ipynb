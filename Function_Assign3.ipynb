{
 "cells": [
  {
   "cell_type": "code",
   "execution_count": 24,
   "id": "interested-deficit",
   "metadata": {},
   "outputs": [
    {
     "name": "stdout",
     "output_type": "stream",
     "text": [
      "Result:4\n",
      "Result:7\n"
     ]
    }
   ],
   "source": [
    "# 1) LESSER OF TWO EVENs: Write a function that returns the lesser of two given numbers \n",
    "# if both numbers are even, but returns the greater if one or both numbers are odd\n",
    "\n",
    "def lesser_number(number1,number2):\n",
    "    #check if both the numbers are even\n",
    "    if number1%2==0 and number2%2==0:\n",
    "        return min(number1,number2)    \n",
    "    #check if either of the number is odd\n",
    "    else:\n",
    "        return max(number1,number2)\n",
    "    \n",
    "result=lesser_number(6,4)\n",
    "print('Result:'+str(result))\n",
    "result=lesser_number(7,5)\n",
    "print('Result:'+str(result))"
   ]
  },
  {
   "cell_type": "code",
   "execution_count": 26,
   "id": "formed-polyester",
   "metadata": {},
   "outputs": [
    {
     "name": "stdout",
     "output_type": "stream",
     "text": [
      "True\n",
      "False\n"
     ]
    }
   ],
   "source": [
    "# 2) ANIMAL CRACKERS: Write a function takes a two-word string and \n",
    "# returns True if both words begin with same letter\n",
    "\n",
    "def animal_crackers(string):\n",
    "    #split the string\n",
    "    string=string.upper().split()\n",
    "    #compare the first alphabet of the strings\n",
    "    return (string[0][0]==string[1][0])\n",
    "    \n",
    "print(animal_crackers('Levelheaded llama'))\n",
    "print(animal_crackers('Crazy Kangaroo'))"
   ]
  },
  {
   "cell_type": "code",
   "execution_count": 5,
   "id": "olympic-relay",
   "metadata": {},
   "outputs": [
    {
     "name": "stdout",
     "output_type": "stream",
     "text": [
      "True\n",
      "True\n",
      "False\n"
     ]
    }
   ],
   "source": [
    "# 3) MAKES TWENTY: Given two integers, return True if the sum of the integers is 20 \n",
    "# or if one of the integers is 20. If not, return False\n",
    "\n",
    "def makes_twenty(number1,number2):\n",
    "    return (number1==20 or number2==20 or number1+number2==20)\n",
    "\n",
    "print(makes_twenty(20,10))\n",
    "print(makes_twenty(12,8))\n",
    "print(makes_twenty(2,3))"
   ]
  },
  {
   "cell_type": "code",
   "execution_count": 29,
   "id": "after-tuesday",
   "metadata": {},
   "outputs": [
    {
     "name": "stdout",
     "output_type": "stream",
     "text": [
      "MacDonald\n",
      "NewString\n"
     ]
    }
   ],
   "source": [
    "# 4) OLD MACDONALD: Write a funct that capitalizes the first and fourth letters of a name\n",
    "\n",
    "def old_macdonald(string):\n",
    "    capsFirst=string[0].upper()\n",
    "    firstPart=string[1:3]\n",
    "    capsSecond=string[3].upper()\n",
    "    secondPart=string[4:]\n",
    "    print(capsFirst+firstPart+capsSecond+secondPart)\n",
    "    \n",
    "    #Another method\n",
    "    #first_half=string[:3]\n",
    "    #second_half=string[3:]\n",
    "    #print(first_half.capitalize()+second_half.capitalize())\n",
    "        \n",
    "old_macdonald('Macdonald')\n",
    "old_macdonald('newstring')\n"
   ]
  },
  {
   "cell_type": "code",
   "execution_count": 33,
   "id": "engaging-traveler",
   "metadata": {},
   "outputs": [
    {
     "name": "stdout",
     "output_type": "stream",
     "text": [
      "home am I\n",
      "ready are We\n"
     ]
    }
   ],
   "source": [
    "# 5) MASTER YODA: Given a sentence, return a sentence with the words reversed\n",
    "\n",
    "def master_yoda(string):\n",
    "    wordlist=string.split()\n",
    "    reverse_list=wordlist[::-1]\n",
    "    reverse_string=' '.join(reverse_list)\n",
    "    print(reverse_string)\n",
    "    \n",
    "master_yoda(\"I am home\")\n",
    "master_yoda(\"We are ready\")"
   ]
  },
  {
   "cell_type": "code",
   "execution_count": 15,
   "id": "following-marshall",
   "metadata": {},
   "outputs": [],
   "source": [
    "# 6) ALMOST THERE: Given an integer n, return True if n is within 10 of either 100 or 200\n",
    "#Not completed yet"
   ]
  },
  {
   "cell_type": "code",
   "execution_count": 9,
   "id": "northern-feature",
   "metadata": {},
   "outputs": [
    {
     "name": "stdout",
     "output_type": "stream",
     "text": [
      "True\n",
      "False\n",
      "False\n"
     ]
    }
   ],
   "source": [
    "# 7) FIND 33: Given a list of ints, return True if the array contains a 3 next to a 3.\n",
    "\n",
    "def has_33(number_list):\n",
    "    prev=None\n",
    "    for num1 in number_list:\n",
    "        if num1==3 and prev==3:\n",
    "            return True\n",
    "        prev=num1\n",
    "    return False\n",
    "\n",
    "print(has_33([1,3,3]))\n",
    "print(has_33([1,3,1,3]))\n",
    "print(has_33([3,1,3]))\n",
    "            "
   ]
  },
  {
   "cell_type": "code",
   "execution_count": 32,
   "id": "higher-portrait",
   "metadata": {},
   "outputs": [
    {
     "name": "stdout",
     "output_type": "stream",
     "text": [
      "HHHeeellllllooo\n",
      "MMMiiissssssiiissssssiiippppppiii\n"
     ]
    }
   ],
   "source": [
    "# 8) PAPER DOLL: Given a string, return a string where for every character in the original \n",
    "# there are three characters\n",
    "\n",
    "def paper_doll(string):\n",
    "    new_string=''\n",
    "    for alphabet in string:\n",
    "        new_string=new_string+(alphabet*3)\n",
    "    print(new_string)\n",
    "    \n",
    "paper_doll('Hello')\n",
    "paper_doll('Mississippi')"
   ]
  },
  {
   "cell_type": "code",
   "execution_count": 19,
   "id": "downtown-survival",
   "metadata": {},
   "outputs": [
    {
     "name": "stdout",
     "output_type": "stream",
     "text": [
      "18\n",
      "BUST\n",
      "19\n",
      "BUST\n"
     ]
    }
   ],
   "source": [
    "# 9) BLACKJACK:\n",
    "\n",
    "def blackjack(num1,num2,num3):\n",
    "    total=num1+num2+num3\n",
    "    if total<=21:\n",
    "        return total\n",
    "    elif (num1==11 or num2==11 or num3==11) and (total-10)<=21:\n",
    "        return (total-10)\n",
    "    return 'BUST'\n",
    "\n",
    "print(blackjack(5,6,7))\n",
    "print(blackjack(9,9,9))\n",
    "print(blackjack(9,9,11))\n",
    "print(blackjack(15,6,7))\n",
    "            "
   ]
  },
  {
   "cell_type": "code",
   "execution_count": 46,
   "id": "stainless-theme",
   "metadata": {},
   "outputs": [],
   "source": [
    "# 10) SUMMER OF '69\n",
    "# not completed yet\n",
    "def summer_69(num_list):\n",
    "    sum=0\n",
    "    for number in num_list:\n",
    "        if number==6:\n",
    "            pass\n",
    "        else:\n",
    "            sum=sum+number\n"
   ]
  },
  {
   "cell_type": "code",
   "execution_count": 20,
   "id": "comprehensive-productivity",
   "metadata": {},
   "outputs": [
    {
     "name": "stdout",
     "output_type": "stream",
     "text": [
      "False\n",
      "True\n",
      "False\n"
     ]
    }
   ],
   "source": [
    "# 11) SPY GAME: Write a function that takes in a list of integers and \n",
    "# returns True if it contains 007 in order\n",
    "\n",
    "def spy_game(num_list):\n",
    "    spy_list=[]\n",
    "    for number in num_list:\n",
    "        if number==0 or number==7:\n",
    "            spy_list.append(number)\n",
    "    if spy_list==[0,0,7]:\n",
    "        return True\n",
    "    else:\n",
    "        return False\n",
    "\n",
    "print(spy_game([1,0,7,0,0,7]))\n",
    "print(spy_game([1,0,2,4,0,5,7]))\n",
    "print(spy_game([1,7,2,0,4,5,0]))"
   ]
  },
  {
   "cell_type": "code",
   "execution_count": 21,
   "id": "consistent-justice",
   "metadata": {},
   "outputs": [
    {
     "name": "stdout",
     "output_type": "stream",
     "text": [
      "[2, 3, 5, 7, 11, 13, 17, 19, 23, 29, 31, 37, 41, 43, 47, 53, 59, 61, 67, 71, 73, 79, 83, 89, 97]\n"
     ]
    }
   ],
   "source": [
    "# 12) COUNT PRIMES: Write a function that returns the number of prime numbers that exist \n",
    "# up to and including a given number. By convention, 0 and 1 are not prime.\n",
    "\n",
    "def count_primes(numbers):\n",
    "    prime_list=[]\n",
    "    chk_prime=2\n",
    "    while chk_prime < numbers:\n",
    "        counter=2\n",
    "        while counter < chk_prime:\n",
    "            if chk_prime%counter==0 and chk_prime!=counter:\n",
    "                break\n",
    "            counter+=1\n",
    "        if chk_prime==counter:\n",
    "            prime_list.append(chk_prime)\n",
    "        chk_prime+=1\n",
    "    return prime_list\n",
    "\n",
    "print(count_primes(100))"
   ]
  },
  {
   "cell_type": "code",
   "execution_count": null,
   "id": "prepared-scanner",
   "metadata": {},
   "outputs": [],
   "source": []
  }
 ],
 "metadata": {
  "kernelspec": {
   "display_name": "Python 3",
   "language": "python",
   "name": "python3"
  },
  "language_info": {
   "codemirror_mode": {
    "name": "ipython",
    "version": 3
   },
   "file_extension": ".py",
   "mimetype": "text/x-python",
   "name": "python",
   "nbconvert_exporter": "python",
   "pygments_lexer": "ipython3",
   "version": "3.8.5"
  }
 },
 "nbformat": 4,
 "nbformat_minor": 5
}
