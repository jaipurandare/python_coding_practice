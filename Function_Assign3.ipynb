{
 "cells": [
  {
   "cell_type": "code",
   "execution_count": 6,
   "id": "optional-frame",
   "metadata": {},
   "outputs": [
    {
     "name": "stdout",
     "output_type": "stream",
     "text": [
      "Result:2\n",
      "Result:5\n"
     ]
    }
   ],
   "source": [
    "# 1) LESSER OF TWO EVENs: Write a function that returns the lesser of two given numbers \n",
    "# if both numbers are even, but returns the greater if one or both numbers are odd\n",
    "\n",
    "def lesser_number(number1,number2):\n",
    "    #check if both the numbers are even\n",
    "    if number1%2==0 and number2%2==0:\n",
    "        if number1>number2:\n",
    "            return number2\n",
    "        else:\n",
    "            return number1\n",
    "    #check if either of the number is odd\n",
    "    else:\n",
    "        if number1>number2:\n",
    "            return number1\n",
    "        else:\n",
    "            return number2\n",
    "    \n",
    "result=lesser_number(2,4)\n",
    "print('Result:'+str(result))\n",
    "result=lesser_number(1,5)\n",
    "print('Result:'+str(result))"
   ]
  },
  {
   "cell_type": "code",
   "execution_count": 21,
   "id": "sized-disposal",
   "metadata": {},
   "outputs": [
    {
     "name": "stdout",
     "output_type": "stream",
     "text": [
      "True\n",
      "False\n"
     ]
    }
   ],
   "source": [
    "# 2) ANIMAL CRACKERS: Write a function takes a two-word string and \n",
    "# returns True if both words begin with same letter\n",
    "\n",
    "def animal_crackers(string):\n",
    "    #split the string\n",
    "    string=string.split(' ')\n",
    "    firstStr=string[0].upper()\n",
    "    secondStr=string[1].upper()\n",
    "    #compare the first alphabet of the strings\n",
    "    if firstStr[0]==secondStr[0]:\n",
    "        return True\n",
    "    else:\n",
    "        return False\n",
    "    \n",
    "print(animal_crackers('Levelheaded Llama'))\n",
    "print(animal_crackers('Crazy Kangaroo'))"
   ]
  },
  {
   "cell_type": "code",
   "execution_count": 22,
   "id": "civil-methodology",
   "metadata": {},
   "outputs": [
    {
     "name": "stdout",
     "output_type": "stream",
     "text": [
      "True\n",
      "True\n",
      "False\n"
     ]
    }
   ],
   "source": [
    "# 3) MAKES TWENTY: Given two integers, return True if the sum of the integers is 20 \n",
    "# or if one of the integers is 20. If not, return False\n",
    "\n",
    "def makes_twenty(number1,number2):\n",
    "    if number1==20 or number2==20:\n",
    "        return True\n",
    "    elif number1+number2==20:\n",
    "        return True\n",
    "    else:\n",
    "        return False\n",
    "\n",
    "print(makes_twenty(20,10))\n",
    "print(makes_twenty(12,8))\n",
    "print(makes_twenty(2,3))"
   ]
  },
  {
   "cell_type": "code",
   "execution_count": 37,
   "id": "democratic-screw",
   "metadata": {},
   "outputs": [
    {
     "name": "stdout",
     "output_type": "stream",
     "text": [
      "MacDonald\n",
      "NewString\n"
     ]
    }
   ],
   "source": [
    "# 4) OLD MACDONALD: Write a funct that capitalizes the first and fourth letters of a name\n",
    "\n",
    "def old_macdonald(string):\n",
    "    capsFirst=string[0].upper()\n",
    "    firstPart=string[1:3]\n",
    "    capsSecond=string[3].upper()\n",
    "    secondPart=string[4:]\n",
    "    updatedString=capsFirst+firstPart+capsSecond+secondPart\n",
    "    print(updatedString)\n",
    "    \n",
    "old_macdonald('Macdonald')\n",
    "old_macdonald('newstring')\n"
   ]
  },
  {
   "cell_type": "code",
   "execution_count": 14,
   "id": "israeli-medication",
   "metadata": {},
   "outputs": [
    {
     "name": "stdout",
     "output_type": "stream",
     "text": [
      "('I', ' ', 'am home')\n",
      "230\n"
     ]
    }
   ],
   "source": [
    "# 5) MASTER YODA: Given a sentence, return a sentence with the words reversed\n",
    "#Not completed yet\n",
    "def master_yoda(string):\n",
    "    reverse_string=string.partition(' ')\n",
    "    #print(string[-1])\n",
    "    #while counter <= len(string):\n",
    "     #   reverse_string.append(string[counter])\n",
    "      #  counter+=1\n",
    "    print(reverse_string)\n",
    "    \n",
    "master_yoda(\"I am home\")\n",
    "\n",
    "num=230\n",
    "print(abs(num))\n"
   ]
  },
  {
   "cell_type": "code",
   "execution_count": 15,
   "id": "nonprofit-discretion",
   "metadata": {},
   "outputs": [],
   "source": [
    "# 6) ALMOST THERE: Given an integer n, return True if n is within 10 of either 100 or 200\n",
    "#Not completed yet"
   ]
  },
  {
   "cell_type": "code",
   "execution_count": 27,
   "id": "center-papua",
   "metadata": {},
   "outputs": [
    {
     "name": "stdout",
     "output_type": "stream",
     "text": [
      "True\n",
      "False\n",
      "False\n"
     ]
    }
   ],
   "source": [
    "# 7) FIND 33: Given a list of ints, return True if the array contains a 3 next to a 3.\n",
    "\n",
    "def has_33(number_list):\n",
    "    num2=0\n",
    "    for num1 in number_list:\n",
    "        if num1==3 and num2!=3:\n",
    "            num2=3\n",
    "        elif num1==num2:\n",
    "            return True\n",
    "        else:\n",
    "            num2=0\n",
    "    return False\n",
    "\n",
    "print(has_33([1,3,3]))\n",
    "print(has_33([1,3,1,3]))\n",
    "print(has_33([3,1,3]))\n",
    "            "
   ]
  },
  {
   "cell_type": "code",
   "execution_count": 32,
   "id": "outdoor-skating",
   "metadata": {},
   "outputs": [
    {
     "name": "stdout",
     "output_type": "stream",
     "text": [
      "HHHeeellllllooo\n",
      "MMMiiissssssiiissssssiiippppppiii\n"
     ]
    }
   ],
   "source": [
    "# 8) PAPER DOLL: Given a string, return a string where for every character in the original \n",
    "# there are three characters\n",
    "\n",
    "def paper_doll(string):\n",
    "    new_string=''\n",
    "    for alphabet in string:\n",
    "        new_string=new_string+(alphabet*3)\n",
    "    print(new_string)\n",
    "    \n",
    "paper_doll('Hello')\n",
    "paper_doll('Mississippi')"
   ]
  },
  {
   "cell_type": "code",
   "execution_count": null,
   "id": "attached-columbus",
   "metadata": {},
   "outputs": [],
   "source": []
  }
 ],
 "metadata": {
  "kernelspec": {
   "display_name": "Python 3",
   "language": "python",
   "name": "python3"
  },
  "language_info": {
   "codemirror_mode": {
    "name": "ipython",
    "version": 3
   },
   "file_extension": ".py",
   "mimetype": "text/x-python",
   "name": "python",
   "nbconvert_exporter": "python",
   "pygments_lexer": "ipython3",
   "version": "3.8.5"
  }
 },
 "nbformat": 4,
 "nbformat_minor": 5
}
