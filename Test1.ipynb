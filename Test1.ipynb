{
 "cells": [
  {
   "cell_type": "code",
   "execution_count": 17,
   "metadata": {},
   "outputs": [
    {
     "name": "stdout",
     "output_type": "stream",
     "text": [
      "Highest Number of candies:7\n",
      "Output list in boolean format:[False, False, True, False, True]\n"
     ]
    }
   ],
   "source": [
    "#Test1: Problem1\n",
    "\n",
    "def kidsWithCandies(candies,extraCandies):\n",
    "    totalKids=len(candies)\n",
    "    highestValue=0\n",
    "    outputBool=[]\n",
    "    for num in candies:\n",
    "        cnt=candies.index(num)\n",
    "        while cnt<totalKids:\n",
    "            if num<candies[cnt]:\n",
    "                pass\n",
    "            elif highestValue>(num+extraCandies):\n",
    "                pass\n",
    "            else:\n",
    "                highestValue=num+extraCandies\n",
    "            cnt+=1\n",
    "    for num in candies:\n",
    "        if (num+extraCandies)<highestValue:\n",
    "            outputBool.append(False)\n",
    "        else:\n",
    "            outputBool.append(True)\n",
    "    print('Highest Number of candies:{}'.format(highestValue))\n",
    "    return outputBool\n",
    "\n",
    "candies=[2,3,5,1,5]\n",
    "extraCandies=2\n",
    "output=kidsWithCandies(candies,extraCandies)\n",
    "print('Output list in boolean format:{}'.format(output))"
   ]
  },
  {
   "cell_type": "code",
   "execution_count": 42,
   "metadata": {},
   "outputs": [
    {
     "name": "stdout",
     "output_type": "stream",
     "text": [
      "Total Balance of each customer:[30, 25, 4, 7, 30, 4]\n",
      "Richest customer has balance:30\n"
     ]
    }
   ],
   "source": [
    "#Test1: Problem3\n",
    "\n",
    "def maximumWealth(accounts):\n",
    "    totalBal=[]\n",
    "    maximum=0\n",
    "    for cust in accounts:\n",
    "        total=0\n",
    "        for amount in cust:\n",
    "            total=total+amount\n",
    "        totalBal.append(total)\n",
    "    length=len(totalBal)\n",
    "    print('Total Balance of each customer:{}'.format(totalBal))\n",
    "    for num in totalBal:\n",
    "        counter=totalBal.index(num)\n",
    "        while counter<length:     \n",
    "            if num<totalBal[counter]:\n",
    "                pass\n",
    "            elif num>=maximum:\n",
    "                maximum=num\n",
    "            counter+=1\n",
    "    return maximum\n",
    "\n",
    "accounts=[[10,20],[4,15,6],[1,3],[1,2,2,2],[10,20],[2,2]]\n",
    "maximumAmount=maximumWealth(accounts)\n",
    "print('Richest customer has balance:{}'.format(maximumAmount))"
   ]
  },
  {
   "cell_type": "code",
   "execution_count": null,
   "metadata": {},
   "outputs": [],
   "source": []
  }
 ],
 "metadata": {
  "kernelspec": {
   "display_name": "Python 3",
   "language": "python",
   "name": "python3"
  },
  "language_info": {
   "codemirror_mode": {
    "name": "ipython",
    "version": 3
   },
   "file_extension": ".py",
   "mimetype": "text/x-python",
   "name": "python",
   "nbconvert_exporter": "python",
   "pygments_lexer": "ipython3",
   "version": "3.8.3"
  }
 },
 "nbformat": 4,
 "nbformat_minor": 4
}
