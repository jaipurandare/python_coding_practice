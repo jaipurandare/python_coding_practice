{
 "cells": [
  {
   "cell_type": "code",
   "execution_count": 17,
   "metadata": {},
   "outputs": [
    {
     "name": "stdout",
     "output_type": "stream",
     "text": [
      "Highest Number of candies:7\n",
      "Output list in boolean format:[False, False, True, False, True]\n"
     ]
    }
   ],
   "source": [
    "#Test1: Problem1\n",
    "\n",
    "def kidsWithCandies(candies,extraCandies):\n",
    "    totalKids=len(candies)\n",
    "    highestValue=0\n",
    "    outputBool=[]\n",
    "    for num in candies:\n",
    "        cnt=candies.index(num)\n",
    "        while cnt<totalKids:\n",
    "            if num<candies[cnt]:\n",
    "                pass\n",
    "            elif highestValue>(num+extraCandies):\n",
    "                pass\n",
    "            else:\n",
    "                highestValue=num+extraCandies\n",
    "            cnt+=1\n",
    "    for num in candies:\n",
    "        if (num+extraCandies)<highestValue:\n",
    "            outputBool.append(False)\n",
    "        else:\n",
    "            outputBool.append(True)\n",
    "    print('Highest Number of candies:{}'.format(highestValue))\n",
    "    return outputBool\n",
    "\n",
    "candies=[2,3,5,1,5]\n",
    "extraCandies=2\n",
    "output=kidsWithCandies(candies,extraCandies)\n",
    "print('Output list in boolean format:{}'.format(output))"
   ]
  },
  {
   "cell_type": "code",
   "execution_count": 42,
   "metadata": {},
   "outputs": [
    {
     "name": "stdout",
     "output_type": "stream",
     "text": [
      "Total Balance of each customer:[30, 25, 4, 7, 30, 4]\n",
      "Richest customer has balance:30\n"
     ]
    }
   ],
   "source": [
    "#Test1: Problem3\n",
    "\n",
    "def maximumWealth(accounts):\n",
    "    totalBal=[]\n",
    "    maximum=0\n",
    "    for cust in accounts:\n",
    "        total=0\n",
    "        for amount in cust:\n",
    "            total=total+amount\n",
    "        totalBal.append(total)\n",
    "    length=len(totalBal)\n",
    "    print('Total Balance of each customer:{}'.format(totalBal))\n",
    "    for num in totalBal:\n",
    "        counter=totalBal.index(num)\n",
    "        while counter<length:     \n",
    "            if num<totalBal[counter]:\n",
    "                pass\n",
    "            elif num>=maximum:\n",
    "                maximum=num\n",
    "            counter+=1\n",
    "    return maximum\n",
    "\n",
    "accounts=[[10,20],[4,15,6],[1,3],[1,2,2,2],[10,20],[2,2]]\n",
    "maximumAmount=maximumWealth(accounts)\n",
    "print('Richest customer has balance:{}'.format(maximumAmount))"
   ]
  },
  {
   "cell_type": "code",
   "execution_count": 49,
   "metadata": {},
   "outputs": [
    {
     "name": "stdout",
     "output_type": "stream",
     "text": [
      "False\n"
     ]
    }
   ],
   "source": [
    "#Test1: Problem4\n",
    "\n",
    "def judgeCircle(moves):\n",
    "    movesCounter={'Left':0,\n",
    "                  'Right':0,\n",
    "                  'Down':0,\n",
    "                  'Up':0}\n",
    "    for element in moves:\n",
    "        if element=='L':\n",
    "            movesCounter['Left']=movesCounter['Left']+1\n",
    "        elif element=='R':\n",
    "            movesCounter['Right']=movesCounter['Right']+1\n",
    "        elif element=='D':\n",
    "            movesCounter['Down']=movesCounter['Down']+1\n",
    "        elif element=='U':\n",
    "            movesCounter['Up']=movesCounter['Up']+1\n",
    "    if movesCounter['Left']==movesCounter['Right'] and movesCounter['Down']==movesCounter['Up']:\n",
    "        return True\n",
    "    else:\n",
    "        return False\n",
    "\n",
    "\n",
    "moves=\"LLDUR\"\n",
    "outputPosition=judgeCircle(moves)\n",
    "print(outputPosition)"
   ]
  },
  {
   "cell_type": "code",
   "execution_count": 66,
   "metadata": {},
   "outputs": [
    {
     "name": "stdout",
     "output_type": "stream",
     "text": [
      "Destination: D\n"
     ]
    }
   ],
   "source": [
    "#Test1: Problem2\n",
    "\n",
    "def destCity(route):\n",
    "    cityList=[]\n",
    "    for element in route:\n",
    "        cityList.append(element[0])\n",
    "        cityList.append(element[1])\n",
    "    return cityList[-1]\n",
    "\n",
    "route=[['A','B'],['C','B'],['C','D']]\n",
    "destination=destCity(route)\n",
    "print('Destination: '+destination)"
   ]
  },
  {
   "cell_type": "code",
   "execution_count": 165,
   "metadata": {},
   "outputs": [
    {
     "name": "stdout",
     "output_type": "stream",
     "text": [
      "Table:\n",
      "Wood\n",
      "Brown\n",
      "$200\n",
      "\n",
      "\n",
      "Chair:\n",
      "Steel\n",
      "Black\n",
      "$100\n",
      "Plastic\n",
      "White\n",
      "$20\n",
      "Plastic\n",
      "Black\n",
      "$18\n",
      "\n",
      "\n",
      "Cabinet:\n",
      "Aluminium\n",
      "White\n",
      "$100\n",
      "\n",
      "\n"
     ]
    }
   ],
   "source": [
    "#Test1: Problem5\n",
    "\n",
    "def furnitureInventory(**kwargs):\n",
    "    tempList=[kwargs['Material'],kwargs['Colour'],kwargs['Price']]\n",
    "    if kwargs['Type'] in furnitureDictionary.keys():\n",
    "        tempString=furnitureDictionary[kwargs['Type']]\n",
    "        tempString.extend(tempList)\n",
    "        furnitureDictionary.update({kwargs['Type']:tempString})\n",
    "    else:\n",
    "        furnitureDictionary.update({kwargs['Type']:tempList})\n",
    "\n",
    "def printInventory():\n",
    "    for key in furnitureDictionary.keys():\n",
    "        print(key+':')\n",
    "        for value in furnitureDictionary[key]:\n",
    "            print(value)\n",
    "        print('\\n')\n",
    "\n",
    "furnitureDictionary={}\n",
    "furnitureInventory(Type='Table',Material='Wood',Colour='Brown',Price='$200')\n",
    "furnitureInventory(Type='Chair',Material='Steel',Colour='Black',Price='$100')\n",
    "furnitureInventory(Type='Chair',Material='Plastic',Colour='White',Price='$20')\n",
    "furnitureInventory(Type='Chair',Material='Plastic',Colour='Black',Price='$18')\n",
    "furnitureInventory(Type='Cabinet',Material='Aluminium',Colour='White',Price='$100')\n",
    "\n",
    "printInventory()\n"
   ]
  },
  {
   "cell_type": "code",
   "execution_count": null,
   "metadata": {},
   "outputs": [],
   "source": []
  }
 ],
 "metadata": {
  "kernelspec": {
   "display_name": "Python 3",
   "language": "python",
   "name": "python3"
  },
  "language_info": {
   "codemirror_mode": {
    "name": "ipython",
    "version": 3
   },
   "file_extension": ".py",
   "mimetype": "text/x-python",
   "name": "python",
   "nbconvert_exporter": "python",
   "pygments_lexer": "ipython3",
   "version": "3.8.3"
  }
 },
 "nbformat": 4,
 "nbformat_minor": 4
}
