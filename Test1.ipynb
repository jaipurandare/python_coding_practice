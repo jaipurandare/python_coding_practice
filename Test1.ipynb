{
 "cells": [
  {
   "cell_type": "code",
   "execution_count": 3,
   "metadata": {},
   "outputs": [
    {
     "name": "stdout",
     "output_type": "stream",
     "text": [
      "Highest Number of candies:5\n",
      "Output list in boolean format:[True, True, True, False, True]\n"
     ]
    }
   ],
   "source": [
    "#Test1: Problem1\n",
    "\n",
    "def kidsWithCandies(candies,extraCandies):\n",
    "    highestValue=candies[0]\n",
    "    outputBool=[]\n",
    "    #Calculate the highest number from the candies list\n",
    "    for candy in candies:\n",
    "        if candy>highestValue:\n",
    "            highestValue=candy \n",
    "    #Calculate the total number of candies by adding extra candies\n",
    "    for candy in candies:\n",
    "        if (candy+extraCandies)<highestValue:\n",
    "            outputBool.append(False)\n",
    "        else:\n",
    "            outputBool.append(True)\n",
    "    print('Highest Number of candies:{}'.format(highestValue))\n",
    "    return outputBool\n",
    "\n",
    "candies=[2,3,5,1,3]\n",
    "extraCandies=3\n",
    "output=kidsWithCandies(candies,extraCandies)\n",
    "print('Output list in boolean format:{}'.format(output))"
   ]
  },
  {
   "cell_type": "code",
   "execution_count": 1,
   "metadata": {},
   "outputs": [
    {
     "name": "stdout",
     "output_type": "stream",
     "text": [
      "Total Balance of each customer:[21, 25, 4, 7, 40, 4]\n",
      "Richest customer has balance:40\n"
     ]
    }
   ],
   "source": [
    "#Test1: Problem3\n",
    "\n",
    "def maximumWealth(accounts):\n",
    "    totalBal=[]\n",
    "    maximum=0\n",
    "    #Calculate total balance for each customer\n",
    "    for customer in accounts:\n",
    "        total=0\n",
    "        for amount in customer:\n",
    "            total=total+amount\n",
    "        totalBal.append(total)\n",
    "    length=len(totalBal)\n",
    "    print('Total Balance of each customer:{}'.format(totalBal))\n",
    "    #Calculate the richest customer\n",
    "    for balance in totalBal:\n",
    "        if balance>=maximum:\n",
    "            maximum=balance\n",
    "    return maximum\n",
    "\n",
    "accounts=[[1,20],[4,15,6],[1,3],[1,2,2,2],[20,20],[2,2]]\n",
    "maximumAmount=maximumWealth(accounts)\n",
    "print('Richest customer has balance:{}'.format(maximumAmount))"
   ]
  },
  {
   "cell_type": "code",
   "execution_count": 16,
   "metadata": {},
   "outputs": [
    {
     "name": "stdout",
     "output_type": "stream",
     "text": [
      "False\n"
     ]
    }
   ],
   "source": [
    "#Test1: Problem4\n",
    "\n",
    "def judgeCircle(moves):\n",
    "    movesCounter={'L':0,\n",
    "                  'R':0,\n",
    "                  'D':0,\n",
    "                  'U':0}\n",
    "    #Calculate the number of moves (right,left,up,down)\n",
    "    for move in moves: \n",
    "        movesCounter[move]=movesCounter[move]+1\n",
    "    #Calculate if the robot has returned to the original position\n",
    "    if movesCounter['L']==movesCounter['R'] and movesCounter['D']==movesCounter['U']:\n",
    "        return True\n",
    "    else:\n",
    "        return False\n",
    "\n",
    "moves=\"LLDUR\"\n",
    "outputPosition=judgeCircle(moves)\n",
    "print(outputPosition)"
   ]
  },
  {
   "cell_type": "code",
   "execution_count": 22,
   "metadata": {},
   "outputs": [
    {
     "name": "stdout",
     "output_type": "stream",
     "text": [
      "Destination: A\n"
     ]
    }
   ],
   "source": [
    "#Test1: Problem2\n",
    "''' Works for given scenarios but the logic has flaws\n",
    "    Try input [[\"C\",\"A\"],[\"B\",\"C\"],[\"D\",\"B\"]]\n",
    "    Expected output is \"A\"\n",
    "'''\n",
    "def destinationCity(route):\n",
    "    originCities=[]\n",
    "    destCities=[]\n",
    "    #create two separate lists for origin and desitnation\n",
    "    for path in route:\n",
    "        originCities.append(path[0])\n",
    "        destCities.append(path[1])\n",
    "    #check if the destination cities are present in origin cities list or not\n",
    "    for dest in destCities:\n",
    "        if dest not in originCities:\n",
    "            finalDest=dest\n",
    "    return finalDest \n",
    "\n",
    "route=[['C','A'],['B','C'],['D','B']]\n",
    "destination=destinationCity(route)\n",
    "print('Destination: '+destination)"
   ]
  },
  {
   "cell_type": "code",
   "execution_count": 9,
   "metadata": {},
   "outputs": [
    {
     "name": "stdout",
     "output_type": "stream",
     "text": [
      "**Table**\n",
      "-Wood-\n",
      "Brown\n",
      "$200\n",
      "\n",
      "\n",
      "**Chair**\n",
      "-Steel-\n",
      "Black\n",
      "$100\n",
      "-Plastic-\n",
      "White\n",
      "$20\n",
      "-Plastic-\n",
      "Black\n",
      "$18\n",
      "\n",
      "\n",
      "**Cabinet**\n",
      "-Aluminium-\n",
      "White\n",
      "$100\n",
      "\n",
      "\n"
     ]
    }
   ],
   "source": [
    "#Test1: Problem5\n",
    "\n",
    "def furnitureInventory(**kwargs):\n",
    "    tempList=[kwargs['Material'],kwargs['Colour'],kwargs['Price']]\n",
    "    #add new items to the furniture dictionary\n",
    "    if kwargs['Type'] in furnitureDictionary:\n",
    "        tempString=furnitureDictionary[kwargs['Type']]\n",
    "        tempString.extend(tempList)\n",
    "        furnitureDictionary.update({kwargs['Type']:tempString})\n",
    "    else:\n",
    "        furnitureDictionary.update({kwargs['Type']:tempList})\n",
    "\n",
    "def printInventory():\n",
    "    counter=0\n",
    "    #print the list of furnitures\n",
    "    for furniture in furnitureDictionary:\n",
    "        print('**'+furniture+'**')\n",
    "        for value in furnitureDictionary[furniture]:\n",
    "            if counter%3==0:\n",
    "                print('-'+value+'-')\n",
    "            else:\n",
    "                print(value)\n",
    "            counter+=1\n",
    "        print('\\n')\n",
    "\n",
    "furnitureDictionary={}\n",
    "furnitureInventory(Type='Table',Material='Wood',Colour='Brown',Price='$200')\n",
    "furnitureInventory(Type='Chair',Material='Steel',Colour='Black',Price='$100')\n",
    "furnitureInventory(Type='Chair',Material='Plastic',Colour='White',Price='$20')\n",
    "furnitureInventory(Type='Chair',Material='Plastic',Colour='Black',Price='$18')\n",
    "furnitureInventory(Type='Cabinet',Material='Aluminium',Colour='White',Price='$100')\n",
    "\n",
    "printInventory()\n",
    "\n",
    "#--------------------------------\n",
    "#Other methods: \n",
    "#1) furnitureDictionary={'Table':[[Wood,Brown,$200],[,,]],\n",
    "#                        'Chair':[[Steel,Black,$100],[Plastic,White,$20]]}\n",
    "#2) Table=[[Wood,Brown,$200],[,,]]\n",
    "#   Chair=[[Steel,Black,$100],[Plastic,White,$20]]"
   ]
  },
  {
   "cell_type": "code",
   "execution_count": null,
   "metadata": {},
   "outputs": [],
   "source": []
  }
 ],
 "metadata": {
  "kernelspec": {
   "display_name": "Python 3",
   "language": "python",
   "name": "python3"
  },
  "language_info": {
   "codemirror_mode": {
    "name": "ipython",
    "version": 3
   },
   "file_extension": ".py",
   "mimetype": "text/x-python",
   "name": "python",
   "nbconvert_exporter": "python",
   "pygments_lexer": "ipython3",
   "version": "3.8.5"
  }
 },
 "nbformat": 4,
 "nbformat_minor": 4
}
