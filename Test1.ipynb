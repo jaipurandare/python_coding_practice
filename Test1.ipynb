{
 "cells": [
  {
   "cell_type": "code",
   "execution_count": 3,
   "metadata": {},
   "outputs": [
    {
     "name": "stdout",
     "output_type": "stream",
     "text": [
      "Highest Number of candies:5\n",
      "Output list in boolean format:[True, True, True, False, True]\n"
     ]
    }
   ],
   "source": [
    "#Test1: Problem1\n",
    "# ** This code does not work for this 1st sample input. Gives wrong output. --Issue fixed **\n",
    "\n",
    "def kidsWithCandies(candies,extraCandies):\n",
    "    highestValue=candies[0]\n",
    "    outputBool=[]\n",
    "    #Calculate the highest number from the candies list\n",
    "    for candy in candies:\n",
    "        if candy>highestValue:\n",
    "            highestValue=candy \n",
    "    #Calculate the total number of candies by adding extra candies\n",
    "    for candy in candies:\n",
    "        if (candy+extraCandies)<highestValue:\n",
    "            outputBool.append(False)\n",
    "        else:\n",
    "            outputBool.append(True)\n",
    "    print('Highest Number of candies:{}'.format(highestValue))\n",
    "    return outputBool\n",
    "\n",
    "candies=[2,3,5,1,3]\n",
    "extraCandies=3\n",
    "output=kidsWithCandies(candies,extraCandies)\n",
    "print('Output list in boolean format:{}'.format(output))"
   ]
  },
  {
   "cell_type": "code",
   "execution_count": 5,
   "metadata": {},
   "outputs": [
    {
     "name": "stdout",
     "output_type": "stream",
     "text": [
      "Total Balance of each customer:[30, 25, 4, 7, 30, 4]\n",
      "Richest customer has balance:30\n"
     ]
    }
   ],
   "source": [
    "#Test1: Problem3\n",
    "\n",
    "def maximumWealth(accounts):\n",
    "    totalBal=[]\n",
    "    maximum=0\n",
    "    #Calculate total balance for each customer\n",
    "    for cust in accounts:\n",
    "        total=0\n",
    "        for amount in cust:\n",
    "            total=total+amount\n",
    "        totalBal.append(total)\n",
    "    length=len(totalBal)\n",
    "    print('Total Balance of each customer:{}'.format(totalBal))\n",
    "    #Calculate the richest customer\n",
    "    for balance in totalBal:\n",
    "        counter=totalBal.index(balance)\n",
    "        while counter<length:\n",
    "            if balance>=maximum:\n",
    "                maximum=balance\n",
    "            counter+=1\n",
    "    return maximum\n",
    "\n",
    "accounts=[[10,20],[4,15,6],[1,3],[1,2,2,2],[10,20],[2,2]]\n",
    "maximumAmount=maximumWealth(accounts)\n",
    "print('Richest customer has balance:{}'.format(maximumAmount))"
   ]
  },
  {
   "cell_type": "code",
   "execution_count": 6,
   "metadata": {},
   "outputs": [
    {
     "name": "stdout",
     "output_type": "stream",
     "text": [
      "False\n"
     ]
    }
   ],
   "source": [
    "#Test1: Problem4\n",
    "\n",
    "def judgeCircle(moves):\n",
    "    movesCounter={'Left':0,\n",
    "                  'Right':0,\n",
    "                  'Down':0,\n",
    "                  'Up':0}\n",
    "    #Calculate the number of moves (right,left,up,down)\n",
    "    for move in moves: \n",
    "        if move=='L':\n",
    "            movesCounter['Left']=movesCounter['Left']+1\n",
    "        elif move=='R':\n",
    "            movesCounter['Right']=movesCounter['Right']+1\n",
    "        elif move=='D':\n",
    "            movesCounter['Down']=movesCounter['Down']+1\n",
    "        elif move=='U':\n",
    "            movesCounter['Up']=movesCounter['Up']+1\n",
    "    #Calculate if the robot has returned to the original position\n",
    "    if movesCounter['Left']==movesCounter['Right'] and movesCounter['Down']==movesCounter['Up']:\n",
    "        return True\n",
    "    else:\n",
    "        return False\n",
    "\n",
    "moves=\"LLDUR\"\n",
    "outputPosition=judgeCircle(moves)\n",
    "print(outputPosition)"
   ]
  },
  {
   "cell_type": "code",
   "execution_count": 66,
   "metadata": {},
   "outputs": [
    {
     "name": "stdout",
     "output_type": "stream",
     "text": [
      "Destination: D\n"
     ]
    }
   ],
   "source": [
    "#Test1: Problem2\n",
    "''' Works for given scenarios but the logic has flaws\n",
    "    Try input [[\"C\",\"A\"],[\"B\",\"C\"],[\"D\",\"B\"]]\n",
    "    Expected output is \"A\"\n",
    "'''\n",
    "def destCity(route): ''' if the variable is a list the name should be somethig plural like 'paths' or 'routes' '''\n",
    "    cityList=[]\n",
    "    for path in route: ''' element should be named 'leg' or 'path' '''\n",
    "        cityList.append(path[0])\n",
    "        cityList.append(path[1])\n",
    "    return cityList[-1]\n",
    "\n",
    "route=[['A','B'],['C','B'],['C','D']]\n",
    "destination=destCity(route)\n",
    "print('Destination: '+destination)"
   ]
  },
  {
   "cell_type": "code",
   "execution_count": 8,
   "metadata": {},
   "outputs": [
    {
     "name": "stdout",
     "output_type": "stream",
     "text": [
      "**Table**\n",
      "Wood\n",
      "Brown\n",
      "$200\n",
      "\n",
      "\n",
      "**Chair**\n",
      "Steel\n",
      "Black\n",
      "$100\n",
      "Plastic\n",
      "White\n",
      "$20\n",
      "Plastic\n",
      "Black\n",
      "$18\n",
      "\n",
      "\n",
      "**Cabinet**\n",
      "Aluminium\n",
      "White\n",
      "$100\n",
      "\n",
      "\n"
     ]
    },
    {
     "data": {
      "text/plain": [
       "' You have not included all the decorative patterns in the report like -Wooden-, -Steel-. Make the type of furniture bold or add ** before and after like ** Cabinet**. Material should have - before and after like -Aluminium- '"
      ]
     },
     "execution_count": 8,
     "metadata": {},
     "output_type": "execute_result"
    }
   ],
   "source": [
    "#Test1: Problem5\n",
    "\n",
    "def furnitureInventory(**kwargs):\n",
    "    tempList=[kwargs['Material'],kwargs['Colour'],kwargs['Price']]\n",
    "    if kwargs['Type'] in furnitureDictionary.keys():#''' \"keys()\" function is not required with \"in\" keyword'''\n",
    "        tempString=furnitureDictionary[kwargs['Type']]\n",
    "        tempString.extend(tempList)\n",
    "        furnitureDictionary.update({kwargs['Type']:tempString})\n",
    "    else:\n",
    "        furnitureDictionary.update({kwargs['Type']:tempList})\n",
    "\n",
    "def printInventory():\n",
    "    for key in furnitureDictionary.keys(): #''' \"keys()\" function is not required with \"in\" keyword'''\n",
    "    #''' \"key\" should be renamed with an appropriate name. What does the variable represent?'''\n",
    "        print('**'+key+'**')\n",
    "        for value in furnitureDictionary[key]:\n",
    "            #''' \"value\" should be renamed with an appropriate name. What does the variable represent?'''\n",
    "            print(value)\n",
    "        print('\\n')\n",
    "\n",
    "furnitureDictionary={}\n",
    "furnitureInventory(Type='Table',Material='Wood',Colour='Brown',Price='$200')\n",
    "furnitureInventory(Type='Chair',Material='Steel',Colour='Black',Price='$100')\n",
    "furnitureInventory(Type='Chair',Material='Plastic',Colour='White',Price='$20')\n",
    "furnitureInventory(Type='Chair',Material='Plastic',Colour='Black',Price='$18')\n",
    "furnitureInventory(Type='Cabinet',Material='Aluminium',Colour='White',Price='$100')\n",
    "\n",
    "printInventory()\n",
    "\n",
    "''' You have not included all the decorative patterns in the report like -Wooden-, -Steel-. Make the type of furniture bold or add ** before and after like ** Cabinet**. Material should have - before and after like -Aluminium- '''\n"
   ]
  },
  {
   "cell_type": "code",
   "execution_count": null,
   "metadata": {},
   "outputs": [],
   "source": []
  }
 ],
 "metadata": {
  "kernelspec": {
   "display_name": "Python 3",
   "language": "python",
   "name": "python3"
  },
  "language_info": {
   "codemirror_mode": {
    "name": "ipython",
    "version": 3
   },
   "file_extension": ".py",
   "mimetype": "text/x-python",
   "name": "python",
   "nbconvert_exporter": "python",
   "pygments_lexer": "ipython3",
   "version": "3.8.5"
  }
 },
 "nbformat": 4,
 "nbformat_minor": 4
}
