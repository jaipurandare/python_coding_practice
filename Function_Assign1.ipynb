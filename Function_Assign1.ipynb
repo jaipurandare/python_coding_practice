{
 "cells": [
  {
   "cell_type": "code",
   "execution_count": 41,
   "metadata": {},
   "outputs": [
    {
     "name": "stdout",
     "output_type": "stream",
     "text": [
      "Enter 1st number: 4\n",
      "Enter 2nd number: 2\n",
      "Enter operator: -\n",
      "Subtraction: 2\n"
     ]
    }
   ],
   "source": [
    "#Function - Calculator\n",
    "def calculator(x,y,oper):\n",
    "    if oper=='+':\n",
    "        print('Addition: {}'.format(num_add(x,y)))\n",
    "    elif oper=='-':\n",
    "        print('Subtraction: {}'.format(num_subtract(x,y)))\n",
    "    elif oper=='*':\n",
    "        print('Multiplication: {}'.format(num_multiply(x,y)))\n",
    "    elif oper=='/':\n",
    "        print('Division: {}'.format(num_divide(x,y)))\n",
    "    else:\n",
    "        print('Remainder: {}'.format(num_remainder(x,y)))\n",
    "\n",
    "def num_add(x,y):\n",
    "    return x+y\n",
    "def num_subtract(x,y):\n",
    "    return x-y\n",
    "def num_multiply(x,y):\n",
    "    return x*y\n",
    "def num_divide(x,y):\n",
    "    return x/y\n",
    "def num_remainder(x,y):\n",
    "    return x%y\n",
    "\n",
    "x=input('Enter 1st number: ')\n",
    "y=input('Enter 2nd number: ')\n",
    "oper=input('Enter operator: ')\n",
    "calculator(int(x),int(y),oper)\n"
   ]
  },
  {
   "cell_type": "code",
   "execution_count": 42,
   "metadata": {},
   "outputs": [
    {
     "name": "stdout",
     "output_type": "stream",
     "text": [
      "arupun\n"
     ]
    }
   ],
   "source": [
    "name='nupura'\n",
    "rev_name=name[::-1]\n",
    "print(rev_name)\n"
   ]
  },
  {
   "cell_type": "code",
   "execution_count": null,
   "metadata": {},
   "outputs": [],
   "source": []
  }
 ],
 "metadata": {
  "kernelspec": {
   "display_name": "Python 3",
   "language": "python",
   "name": "python3"
  },
  "language_info": {
   "codemirror_mode": {
    "name": "ipython",
    "version": 3
   },
   "file_extension": ".py",
   "mimetype": "text/x-python",
   "name": "python",
   "nbconvert_exporter": "python",
   "pygments_lexer": "ipython3",
   "version": "3.8.3"
  }
 },
 "nbformat": 4,
 "nbformat_minor": 4
}
