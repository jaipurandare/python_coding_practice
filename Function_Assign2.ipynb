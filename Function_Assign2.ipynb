{
 "cells": [
  {
   "cell_type": "code",
   "execution_count": 4,
   "metadata": {},
   "outputs": [
    {
     "name": "stdout",
     "output_type": "stream",
     "text": [
      "[['Incorrect To code in header'], ['Incorrect detail record number sequence'], ['Incorrect trailer record name', 'Incorrect file sequence number in trailer', 'Incorrect detail records number in trailer']]\n",
      "[['Incorrect file sequence number in header'], [], ['Incorrect file sequence number in trailer', 'Incorrect detail records number in trailer']]\n",
      "[['Incorrect header record name'], ['Incorrect detail name'], ['Incorrect file sequence number in trailer', 'Incorrect detail records number in trailer']]\n"
     ]
    }
   ],
   "source": [
    "#File lists assignment using functions.\n",
    "\n",
    "def list_header(header):\n",
    "    error_header=[]\n",
    "    hdr=header\n",
    "    if hdr[0]!= HEADER_RECORD_START:\n",
    "        error_header.append('Incorrect header record name')\n",
    "    if not hdr[1].isnumeric():\n",
    "        error_header.append('Incorrect file sequence number in header')\n",
    "    if hdr[2] not in validFrom:\n",
    "        error_header.append('Incorrect From code in header')\n",
    "    if not hdr[3].isalpha():\n",
    "        error_header.append('Incorrect From value in header')\n",
    "    if hdr[4] not in validTo:\n",
    "        error_header.append('Incorrect To code in header')\n",
    "    if not hdr[5].isalpha():\n",
    "        error_header.append('Incorrect To value in header')\n",
    "    return error_header\n",
    "\n",
    "def list_detail(detail):\n",
    "    error_detail=[]\n",
    "    det=detail\n",
    "    if not det[0].isnumeric():\n",
    "        error_detail.append('Incorrect detail record number sequence')\n",
    "    if not det[1].isalpha():\n",
    "        error_detail.append('Incorrect detail name')\n",
    "    if not det[2].isnumeric():\n",
    "        error_detail.append('Incorrect detail mobile number')\n",
    "    return error_detail\n",
    "\n",
    "def list_trailer(trailer,hdr):\n",
    "    error_trailer=[]\n",
    "    tlr=trailer\n",
    "    if tlr[0]!=TRAILER_RECORD_START:\n",
    "        error_trailer.append('Incorrect trailer record name')\n",
    "    if not tlr[1].isnumeric() or tlr[1]!=hdr:\n",
    "        error_trailer.append('Incorrect file sequence number in trailer')\n",
    "    if tlr[2]!=detailcount or not detailcount.isnumeric():\n",
    "        error_trailer.append('Incorrect detail records number in trailer')\n",
    "    return error_trailer\n",
    "        \n",
    "files=[[['HDR','1','6','ABC','A','EAS'], ['A','Name','123123'], ['TTT','1','1']],\n",
    "       [['HDR','A','6','ABC','D','EAS'], ['5','New','1231'], ['TLR','1','3']],\n",
    "       [['H','2','6','ABC','D','EAS'], ['5','121','1231'], ['TLR','1','3']]]\n",
    "validFrom=['6','D','X']\n",
    "validTo=['D','X']\n",
    "HEADER_RECORD_START='HDR'\n",
    "TRAILER_RECORD_START='TLR'\n",
    "detailcount=1\n",
    "errorslist=[]\n",
    "\n",
    "for file in files:\n",
    "    err=[[],[],[]]\n",
    "    err[0]=list_header(file[0])\n",
    "    err[1]=list_detail(file[1])\n",
    "    err[2]=list_trailer(file[2],file[0])\n",
    "    errorslist.append(err)\n",
    "\n",
    "for error in errorslist:\n",
    "    print(error)"
   ]
  },
  {
   "cell_type": "code",
   "execution_count": null,
   "metadata": {},
   "outputs": [],
   "source": []
  }
 ],
 "metadata": {
  "kernelspec": {
   "display_name": "Python 3",
   "language": "python",
   "name": "python3"
  },
  "language_info": {
   "codemirror_mode": {
    "name": "ipython",
    "version": 3
   },
   "file_extension": ".py",
   "mimetype": "text/x-python",
   "name": "python",
   "nbconvert_exporter": "python",
   "pygments_lexer": "ipython3",
   "version": "3.8.3"
  }
 },
 "nbformat": 4,
 "nbformat_minor": 4
}
