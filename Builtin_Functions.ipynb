{
 "cells": [
  {
   "cell_type": "code",
   "execution_count": 5,
   "id": "round-stanley",
   "metadata": {},
   "outputs": [
    {
     "name": "stdout",
     "output_type": "stream",
     "text": [
      "Sum:106\n",
      "Average number:53.0\n",
      "Smallest number:2\n",
      "Largest number:25\n",
      "Smallest number raised to largest number:33554432\n",
      "Largest number raised to smallest number:625\n",
      "Divide largest number by smallest: Quotient and Remainder:(12, 1)\n"
     ]
    }
   ],
   "source": [
    "integer_list=[15,2,4,11,5,6,21,7,10,25]\n",
    "\n",
    "#Part1:The sum and average of the numbers\n",
    "print('Sum:'+str(sum(integer_list)))\n",
    "avg_num=sum(integer_list)/2\n",
    "print('Average number:'+str(avg_num))\n",
    "\n",
    "#Part2:The smallest and largest numbers.\n",
    "small_num=min(integer_list)\n",
    "large_num=max(integer_list)\n",
    "print('Smallest number:'+str(small_num))\n",
    "print('Largest number:'+str(large_num))\n",
    "\n",
    "#Part3:The smallest number raised to largest number and vice versa\n",
    "print('Smallest number raised to largest number:'+str(pow(small_num,large_num)))\n",
    "print('Largest number raised to smallest number:'+str(pow(large_num,small_num)))\n",
    "\n",
    "#Part4:Divide the Largest number by smallest and print quotient and remainder.\n",
    "print('Divide largest number by smallest: Quotient and Remainder:'+str(divmod(large_num,small_num)))"
   ]
  },
  {
   "cell_type": "code",
   "execution_count": 8,
   "id": "small-manufacturer",
   "metadata": {},
   "outputs": [
    {
     "name": "stdout",
     "output_type": "stream",
     "text": [
      "Division Quotient in decimal format:16.666666666666668\n",
      "Division Quotient rounded to closest number:17\n"
     ]
    }
   ],
   "source": [
    "#Part5:Do complete division quotient in decimal format. Round it to the closest integer.\n",
    "num1=50\n",
    "num2=3\n",
    "div_quo=num1/num2\n",
    "print('Division Quotient in decimal format:'+str(div_quo))\n",
    "print('Division Quotient rounded to closest number:'+str(round(div_quo)))"
   ]
  },
  {
   "cell_type": "code",
   "execution_count": 17,
   "id": "psychological-wedding",
   "metadata": {},
   "outputs": [
    {
     "name": "stdout",
     "output_type": "stream",
     "text": [
      "Unique numbers:{1, 3, 4, 5, 6}\n"
     ]
    }
   ],
   "source": [
    "#Part6:Unique number, that is remove duplicates.\n",
    "my_list1=[1,5,3,6,3,4,1]\n",
    "print('Unique numbers:'+str(set(my_list1)))"
   ]
  },
  {
   "cell_type": "code",
   "execution_count": 18,
   "id": "invalid-daniel",
   "metadata": {},
   "outputs": [
    {
     "name": "stdout",
     "output_type": "stream",
     "text": [
      "[15, 2, 4, 11, 5, 6, 21, 7, 10, 25]\n"
     ]
    }
   ],
   "source": [
    "#Part7:List of all even numbers\n",
    "\n",
    "#Part8:List of all odd numbers\n"
   ]
  },
  {
   "cell_type": "code",
   "execution_count": 19,
   "id": "humanitarian-european",
   "metadata": {},
   "outputs": [
    {
     "name": "stdin",
     "output_type": "stream",
     "text": [
      "Enter number: 2\n"
     ]
    }
   ],
   "source": [
    "#Part9:Accept a number from user and multiply all number by that number and Print the list\n",
    "user_num=input('Enter number:')\n"
   ]
  },
  {
   "cell_type": "code",
   "execution_count": null,
   "id": "variable-grave",
   "metadata": {},
   "outputs": [],
   "source": []
  }
 ],
 "metadata": {
  "kernelspec": {
   "display_name": "Python 3",
   "language": "python",
   "name": "python3"
  },
  "language_info": {
   "codemirror_mode": {
    "name": "ipython",
    "version": 3
   },
   "file_extension": ".py",
   "mimetype": "text/x-python",
   "name": "python",
   "nbconvert_exporter": "python",
   "pygments_lexer": "ipython3",
   "version": "3.8.5"
  }
 },
 "nbformat": 4,
 "nbformat_minor": 5
}
