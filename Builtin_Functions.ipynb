{
 "cells": [
  {
   "cell_type": "code",
   "execution_count": 5,
   "id": "consolidated-metro",
   "metadata": {},
   "outputs": [
    {
     "name": "stdout",
     "output_type": "stream",
     "text": [
      "Mininum:1\n",
      "Maximum:9\n"
     ]
    }
   ],
   "source": [
    "my_list=[9,5,7,3,1]\n",
    "\n",
    "print('Mininum:'+str(min(my_list)))\n",
    "print('Maximum:'+str(max(my_list)))"
   ]
  },
  {
   "cell_type": "code",
   "execution_count": null,
   "id": "welsh-concord",
   "metadata": {},
   "outputs": [],
   "source": []
  }
 ],
 "metadata": {
  "kernelspec": {
   "display_name": "Python 3",
   "language": "python",
   "name": "python3"
  },
  "language_info": {
   "codemirror_mode": {
    "name": "ipython",
    "version": 3
   },
   "file_extension": ".py",
   "mimetype": "text/x-python",
   "name": "python",
   "nbconvert_exporter": "python",
   "pygments_lexer": "ipython3",
   "version": "3.8.5"
  }
 },
 "nbformat": 4,
 "nbformat_minor": 5
}
