{
 "cells": [
  {
   "cell_type": "code",
   "execution_count": 62,
   "id": "adverse-applicant",
   "metadata": {},
   "outputs": [
    {
     "name": "stdout",
     "output_type": "stream",
     "text": [
      "Sum:106\n",
      "Average number:10.6\n"
     ]
    }
   ],
   "source": [
    "integer_list=[15,2,4,11,5,6,21,7,10,25]\n",
    "\n",
    "#Part1:The sum and average of the numbers\n",
    "print('Sum:'+str(sum(integer_list)))\n",
    "avg_num=sum(integer_list)/len(integer_list)\n",
    "print('Average number:'+str(avg_num))"
   ]
  },
  {
   "cell_type": "code",
   "execution_count": 63,
   "id": "laden-indiana",
   "metadata": {},
   "outputs": [
    {
     "name": "stdout",
     "output_type": "stream",
     "text": [
      "Smallest number:2\n",
      "Largest number:25\n"
     ]
    }
   ],
   "source": [
    "#Part2:The smallest and largest numbers.\n",
    "small_num=min(integer_list)\n",
    "large_num=max(integer_list)\n",
    "print('Smallest number:'+str(small_num))\n",
    "print('Largest number:'+str(large_num))"
   ]
  },
  {
   "cell_type": "code",
   "execution_count": 56,
   "id": "behavioral-belle",
   "metadata": {},
   "outputs": [
    {
     "name": "stdout",
     "output_type": "stream",
     "text": [
      "Smallest number raised to largest number:33554432\n",
      "Largest number raised to smallest number:625\n"
     ]
    }
   ],
   "source": [
    "#Part3:The smallest number raised to largest number and vice versa\n",
    "print('Smallest number raised to largest number:'+str(pow(small_num,large_num)))\n",
    "print('Largest number raised to smallest number:'+str(pow(large_num,small_num)))"
   ]
  },
  {
   "cell_type": "code",
   "execution_count": 57,
   "id": "employed-baseline",
   "metadata": {},
   "outputs": [
    {
     "name": "stdout",
     "output_type": "stream",
     "text": [
      "Divide largest number by smallest: Quotient and Remainder:(12, 1)\n"
     ]
    }
   ],
   "source": [
    "#Part4:Divide the Largest number by smallest and print quotient and remainder.\n",
    "print('Divide largest number by smallest: Quotient and Remainder:'+str(divmod(large_num,small_num)))"
   ]
  },
  {
   "cell_type": "code",
   "execution_count": 8,
   "id": "laughing-spice",
   "metadata": {},
   "outputs": [
    {
     "name": "stdout",
     "output_type": "stream",
     "text": [
      "Division Quotient in decimal format:16.666666666666668\n",
      "Division Quotient rounded to closest number:17\n"
     ]
    }
   ],
   "source": [
    "#Part5:Do complete division quotient in decimal format. Round it to the closest integer.\n",
    "num1=50\n",
    "num2=3\n",
    "div_quo=num1/num2\n",
    "print('Division Quotient in decimal format:'+str(div_quo))\n",
    "print('Division Quotient rounded to closest number:'+str(round(div_quo)))"
   ]
  },
  {
   "cell_type": "code",
   "execution_count": 17,
   "id": "small-mercy",
   "metadata": {},
   "outputs": [
    {
     "name": "stdout",
     "output_type": "stream",
     "text": [
      "Unique numbers:{1, 3, 4, 5, 6}\n"
     ]
    }
   ],
   "source": [
    "#Part6:Unique number, that is remove duplicates.\n",
    "my_list1=[1,5,3,6,3,4,1]\n",
    "print('Unique numbers:'+str(set(my_list1)))"
   ]
  },
  {
   "cell_type": "code",
   "execution_count": 48,
   "id": "worst-cliff",
   "metadata": {},
   "outputs": [
    {
     "name": "stdout",
     "output_type": "stream",
     "text": [
      "Even list:[2, 4, 6, 10]\n",
      "Odd list:[15, 11, 5, 21, 7, 25]\n"
     ]
    }
   ],
   "source": [
    "#Part7:List of all even numbers\n",
    "def get_even(num):\n",
    "    if num%2==0:\n",
    "        return True\n",
    "    else:\n",
    "        return False\n",
    "print('Even list:{}'.format(list(filter(get_even,integer_list))))\n",
    "    \n",
    "#Part8:List of all odd numbers\n",
    "def get_odd(num):\n",
    "    if num%2==0:\n",
    "        return False\n",
    "    else:\n",
    "        return True\n",
    "print('Odd list:{}'.format(list(filter(get_odd,integer_list))))\n"
   ]
  },
  {
   "cell_type": "code",
   "execution_count": 43,
   "id": "religious-renaissance",
   "metadata": {},
   "outputs": [
    {
     "name": "stdin",
     "output_type": "stream",
     "text": [
      "Enter number: 3\n"
     ]
    },
    {
     "name": "stdout",
     "output_type": "stream",
     "text": [
      "Print list:[45, 6, 12, 33, 15, 18, 63, 21, 30, 75]\n"
     ]
    }
   ],
   "source": [
    "#Part9:Accept a number from user and multiply all number by that number and Print the list\n",
    "user_num=input('Enter number:')\n",
    "def multi_func(num):\n",
    "    return (num*int(user_num))\n",
    "print('Print list:{}'.format(list(map(multi_func,integer_list))))"
   ]
  },
  {
   "cell_type": "code",
   "execution_count": 64,
   "id": "elementary-coach",
   "metadata": {},
   "outputs": [
    {
     "name": "stdout",
     "output_type": "stream",
     "text": [
      "Smallest to largest:[2, 3, 4, 5, 6, 7, 8, 9, 10, 11, 12, 13, 14, 15, 16, 17, 18, 19, 20, 21, 22, 23, 24]\n"
     ]
    }
   ],
   "source": [
    "#Part10:List of all numbers from smallest to the largest\n",
    "print('Smallest to largest:{}'.format(list(range(small_num,large_num))))"
   ]
  },
  {
   "cell_type": "code",
   "execution_count": 58,
   "id": "surrounded-bundle",
   "metadata": {},
   "outputs": [
    {
     "name": "stdout",
     "output_type": "stream",
     "text": [
      "Ascending order:[2, 4, 5, 6, 7, 10, 11, 15, 21, 25]\n",
      "Descending order:[25, 21, 15, 11, 10, 7, 6, 5, 4, 2]\n"
     ]
    }
   ],
   "source": [
    "#Part11:List in the ascending order. Reverse to print descending order.\n",
    "print('Ascending order:{}'.format(sorted(integer_list,reverse=False)))\n",
    "print('Descending order:{}'.format(sorted(integer_list,reverse=True)))"
   ]
  },
  {
   "cell_type": "code",
   "execution_count": 71,
   "id": "furnished-fairy",
   "metadata": {},
   "outputs": [
    {
     "name": "stdout",
     "output_type": "stream",
     "text": [
      "3rd to 6th numbers in the list:[4, 11, 5, 6]\n"
     ]
    }
   ],
   "source": [
    "#Part12:Print the 3rd to 6th numbers in the list.\n",
    "integer_list=[15,2,4,11,5,6,21,7,10,25]\n",
    "slice_3rd_6th=slice(2,6)\n",
    "print('3rd to 6th numbers in the list:{}'.format(integer_list[slice_3rd_6th]))"
   ]
  },
  {
   "cell_type": "code",
   "execution_count": 74,
   "id": "integrated-tampa",
   "metadata": {},
   "outputs": [
    {
     "name": "stdout",
     "output_type": "stream",
     "text": [
      "Absolute values method 1:[2, 3, 4.5, 6.8, 1, 29]\n",
      "Absolute values using map function:[2, 3, 4.5, 6.8, 1, 29]\n"
     ]
    }
   ],
   "source": [
    "#Part13:List of absolute values of all numbers in the list [2,3,-4.5,6.8,-1,-29]\n",
    "my_list=[2,3,-4.5,6.8,-1,-29]\n",
    "\n",
    "#Method 1\n",
    "new_list=[]\n",
    "for num in my_list:\n",
    "    new_list.append(abs(num))\n",
    "print('Absolute values method 1:{}'.format(new_list))\n",
    "\n",
    "#Method 2\n",
    "print('Absolute values using map function:{}'.format(list(map(abs,my_list))))"
   ]
  },
  {
   "cell_type": "code",
   "execution_count": null,
   "id": "constant-hartford",
   "metadata": {},
   "outputs": [],
   "source": []
  }
 ],
 "metadata": {
  "kernelspec": {
   "display_name": "Python 3",
   "language": "python",
   "name": "python3"
  },
  "language_info": {
   "codemirror_mode": {
    "name": "ipython",
    "version": 3
   },
   "file_extension": ".py",
   "mimetype": "text/x-python",
   "name": "python",
   "nbconvert_exporter": "python",
   "pygments_lexer": "ipython3",
   "version": "3.8.5"
  }
 },
 "nbformat": 4,
 "nbformat_minor": 5
}
